{
 "cells": [
  {
   "cell_type": "code",
   "execution_count": 1,
   "id": "14417838-dfca-45d2-971c-31552e38b3db",
   "metadata": {},
   "outputs": [
    {
     "name": "stdout",
     "output_type": "stream",
     "text": [
      "Requirement already satisfied: geopy in c:\\users\\dula\\appdata\\local\\programs\\python\\python312\\lib\\site-packages (2.4.1)\n",
      "Requirement already satisfied: geographiclib<3,>=1.52 in c:\\users\\dula\\appdata\\local\\programs\\python\\python312\\lib\\site-packages (from geopy) (2.0)\n"
     ]
    },
    {
     "name": "stderr",
     "output_type": "stream",
     "text": [
      "\n",
      "[notice] A new release of pip is available: 24.0 -> 24.3.1\n",
      "[notice] To update, run: python.exe -m pip install --upgrade pip\n"
     ]
    }
   ],
   "source": [
    "!pip install geopy"
   ]
  },
  {
   "cell_type": "code",
   "execution_count": 1,
   "id": "265b783c-4a84-4a1b-847f-1f9ce8b5f631",
   "metadata": {},
   "outputs": [],
   "source": [
    "from geopy.distance import geodesic"
   ]
  },
  {
   "cell_type": "code",
   "execution_count": 2,
   "id": "45ceeaf7-2aea-4d6d-b1f0-e2632c1a1d2f",
   "metadata": {},
   "outputs": [],
   "source": [
    "import pandas as pd\n",
    "import numpy as np"
   ]
  },
  {
   "cell_type": "code",
   "execution_count": 3,
   "id": "584239cd-edc0-49af-bb71-d98d637b49a2",
   "metadata": {},
   "outputs": [
    {
     "data": {
      "text/html": [
       "<div>\n",
       "<style scoped>\n",
       "    .dataframe tbody tr th:only-of-type {\n",
       "        vertical-align: middle;\n",
       "    }\n",
       "\n",
       "    .dataframe tbody tr th {\n",
       "        vertical-align: top;\n",
       "    }\n",
       "\n",
       "    .dataframe thead th {\n",
       "        text-align: right;\n",
       "    }\n",
       "</style>\n",
       "<table border=\"1\" class=\"dataframe\">\n",
       "  <thead>\n",
       "    <tr style=\"text-align: right;\">\n",
       "      <th></th>\n",
       "      <th>Unnamed: 0</th>\n",
       "      <th>trans_date_trans_time</th>\n",
       "      <th>cc_num</th>\n",
       "      <th>merchant</th>\n",
       "      <th>category</th>\n",
       "      <th>amt</th>\n",
       "      <th>first</th>\n",
       "      <th>last</th>\n",
       "      <th>gender</th>\n",
       "      <th>street</th>\n",
       "      <th>...</th>\n",
       "      <th>long</th>\n",
       "      <th>city_pop</th>\n",
       "      <th>job</th>\n",
       "      <th>dob</th>\n",
       "      <th>trans_num</th>\n",
       "      <th>unix_time</th>\n",
       "      <th>merch_lat</th>\n",
       "      <th>merch_long</th>\n",
       "      <th>is_fraud</th>\n",
       "      <th>risk_probability</th>\n",
       "    </tr>\n",
       "  </thead>\n",
       "  <tbody>\n",
       "    <tr>\n",
       "      <th>0</th>\n",
       "      <td>2449</td>\n",
       "      <td>1/2/2019 1:06</td>\n",
       "      <td>4.613310e+12</td>\n",
       "      <td>fraud_Rutherford-Mertz</td>\n",
       "      <td>grocery_pos</td>\n",
       "      <td>281.06</td>\n",
       "      <td>Jason</td>\n",
       "      <td>Murphy</td>\n",
       "      <td>M</td>\n",
       "      <td>542 Steve Curve Suite 011</td>\n",
       "      <td>...</td>\n",
       "      <td>-81.7266</td>\n",
       "      <td>885</td>\n",
       "      <td>Soil scientist</td>\n",
       "      <td>9/15/1988</td>\n",
       "      <td>e8a81877ae9a0a7f883e15cb39dc4022</td>\n",
       "      <td>1325466397</td>\n",
       "      <td>36.430124</td>\n",
       "      <td>-81.179483</td>\n",
       "      <td>1</td>\n",
       "      <td>0.712407</td>\n",
       "    </tr>\n",
       "    <tr>\n",
       "      <th>1</th>\n",
       "      <td>2472</td>\n",
       "      <td>1/2/2019 1:47</td>\n",
       "      <td>3.401870e+14</td>\n",
       "      <td>fraud_Jenkins, Hauck and Friesen</td>\n",
       "      <td>gas_transport</td>\n",
       "      <td>11.52</td>\n",
       "      <td>Misty</td>\n",
       "      <td>Hart</td>\n",
       "      <td>F</td>\n",
       "      <td>27954 Hall Mill Suite 575</td>\n",
       "      <td>...</td>\n",
       "      <td>-98.4590</td>\n",
       "      <td>1595797</td>\n",
       "      <td>Horticultural consultant</td>\n",
       "      <td>10/28/1960</td>\n",
       "      <td>bc7d41c41103877b03232f03f1f8d3f5</td>\n",
       "      <td>1325468849</td>\n",
       "      <td>29.819364</td>\n",
       "      <td>-99.142791</td>\n",
       "      <td>1</td>\n",
       "      <td>0.576108</td>\n",
       "    </tr>\n",
       "    <tr>\n",
       "      <th>2</th>\n",
       "      <td>2523</td>\n",
       "      <td>1/2/2019 3:05</td>\n",
       "      <td>3.401870e+14</td>\n",
       "      <td>fraud_Goodwin-Nitzsche</td>\n",
       "      <td>grocery_pos</td>\n",
       "      <td>276.31</td>\n",
       "      <td>Misty</td>\n",
       "      <td>Hart</td>\n",
       "      <td>F</td>\n",
       "      <td>27954 Hall Mill Suite 575</td>\n",
       "      <td>...</td>\n",
       "      <td>-98.4590</td>\n",
       "      <td>1595797</td>\n",
       "      <td>Horticultural consultant</td>\n",
       "      <td>10/28/1960</td>\n",
       "      <td>b98f12f4168391b2203238813df5aa8c</td>\n",
       "      <td>1325473523</td>\n",
       "      <td>29.273085</td>\n",
       "      <td>-98.836360</td>\n",
       "      <td>1</td>\n",
       "      <td>0.642621</td>\n",
       "    </tr>\n",
       "    <tr>\n",
       "      <th>3</th>\n",
       "      <td>2546</td>\n",
       "      <td>1/2/2019 3:38</td>\n",
       "      <td>4.613310e+12</td>\n",
       "      <td>fraud_Erdman-Kertzmann</td>\n",
       "      <td>gas_transport</td>\n",
       "      <td>7.03</td>\n",
       "      <td>Jason</td>\n",
       "      <td>Murphy</td>\n",
       "      <td>M</td>\n",
       "      <td>542 Steve Curve Suite 011</td>\n",
       "      <td>...</td>\n",
       "      <td>-81.7266</td>\n",
       "      <td>885</td>\n",
       "      <td>Soil scientist</td>\n",
       "      <td>9/15/1988</td>\n",
       "      <td>397894a5c4c02e3c61c784001f0f14e4</td>\n",
       "      <td>1325475483</td>\n",
       "      <td>35.909292</td>\n",
       "      <td>-82.091010</td>\n",
       "      <td>1</td>\n",
       "      <td>0.465530</td>\n",
       "    </tr>\n",
       "    <tr>\n",
       "      <th>4</th>\n",
       "      <td>2553</td>\n",
       "      <td>1/2/2019 3:55</td>\n",
       "      <td>3.401870e+14</td>\n",
       "      <td>fraud_Koepp-Parker</td>\n",
       "      <td>grocery_pos</td>\n",
       "      <td>275.73</td>\n",
       "      <td>Misty</td>\n",
       "      <td>Hart</td>\n",
       "      <td>F</td>\n",
       "      <td>27954 Hall Mill Suite 575</td>\n",
       "      <td>...</td>\n",
       "      <td>-98.4590</td>\n",
       "      <td>1595797</td>\n",
       "      <td>Horticultural consultant</td>\n",
       "      <td>10/28/1960</td>\n",
       "      <td>7863235a750d73a244c07f1fb7f0185a</td>\n",
       "      <td>1325476547</td>\n",
       "      <td>29.786426</td>\n",
       "      <td>-98.683410</td>\n",
       "      <td>1</td>\n",
       "      <td>0.650312</td>\n",
       "    </tr>\n",
       "  </tbody>\n",
       "</table>\n",
       "<p>5 rows × 24 columns</p>\n",
       "</div>"
      ],
      "text/plain": [
       "   Unnamed: 0 trans_date_trans_time        cc_num  \\\n",
       "0        2449         1/2/2019 1:06  4.613310e+12   \n",
       "1        2472         1/2/2019 1:47  3.401870e+14   \n",
       "2        2523         1/2/2019 3:05  3.401870e+14   \n",
       "3        2546         1/2/2019 3:38  4.613310e+12   \n",
       "4        2553         1/2/2019 3:55  3.401870e+14   \n",
       "\n",
       "                           merchant       category     amt  first    last  \\\n",
       "0            fraud_Rutherford-Mertz    grocery_pos  281.06  Jason  Murphy   \n",
       "1  fraud_Jenkins, Hauck and Friesen  gas_transport   11.52  Misty    Hart   \n",
       "2            fraud_Goodwin-Nitzsche    grocery_pos  276.31  Misty    Hart   \n",
       "3            fraud_Erdman-Kertzmann  gas_transport    7.03  Jason  Murphy   \n",
       "4                fraud_Koepp-Parker    grocery_pos  275.73  Misty    Hart   \n",
       "\n",
       "  gender                     street  ...     long city_pop  \\\n",
       "0      M  542 Steve Curve Suite 011  ... -81.7266      885   \n",
       "1      F  27954 Hall Mill Suite 575  ... -98.4590  1595797   \n",
       "2      F  27954 Hall Mill Suite 575  ... -98.4590  1595797   \n",
       "3      M  542 Steve Curve Suite 011  ... -81.7266      885   \n",
       "4      F  27954 Hall Mill Suite 575  ... -98.4590  1595797   \n",
       "\n",
       "                        job         dob                         trans_num  \\\n",
       "0            Soil scientist   9/15/1988  e8a81877ae9a0a7f883e15cb39dc4022   \n",
       "1  Horticultural consultant  10/28/1960  bc7d41c41103877b03232f03f1f8d3f5   \n",
       "2  Horticultural consultant  10/28/1960  b98f12f4168391b2203238813df5aa8c   \n",
       "3            Soil scientist   9/15/1988  397894a5c4c02e3c61c784001f0f14e4   \n",
       "4  Horticultural consultant  10/28/1960  7863235a750d73a244c07f1fb7f0185a   \n",
       "\n",
       "    unix_time  merch_lat merch_long is_fraud  risk_probability  \n",
       "0  1325466397  36.430124 -81.179483        1          0.712407  \n",
       "1  1325468849  29.819364 -99.142791        1          0.576108  \n",
       "2  1325473523  29.273085 -98.836360        1          0.642621  \n",
       "3  1325475483  35.909292 -82.091010        1          0.465530  \n",
       "4  1325476547  29.786426 -98.683410        1          0.650312  \n",
       "\n",
       "[5 rows x 24 columns]"
      ]
     },
     "execution_count": 3,
     "metadata": {},
     "output_type": "execute_result"
    }
   ],
   "source": [
    "data_Train=pd.read_csv(\"Train_dataset_with_probability.csv\")\n",
    "data_Train.head()"
   ]
  },
  {
   "cell_type": "code",
   "execution_count": 4,
   "id": "22650ad4-a482-4618-91a7-9e0394484d6a",
   "metadata": {},
   "outputs": [
    {
     "data": {
      "text/plain": [
       "(6006, 24)"
      ]
     },
     "execution_count": 4,
     "metadata": {},
     "output_type": "execute_result"
    }
   ],
   "source": [
    "data_Train.shape"
   ]
  },
  {
   "cell_type": "code",
   "execution_count": 5,
   "id": "7f18722b-1b95-4a10-ad82-90fb93438e07",
   "metadata": {},
   "outputs": [
    {
     "data": {
      "text/plain": [
       "Unnamed: 0               0\n",
       "trans_date_trans_time    0\n",
       "cc_num                   0\n",
       "merchant                 0\n",
       "category                 0\n",
       "amt                      0\n",
       "first                    0\n",
       "last                     0\n",
       "gender                   0\n",
       "street                   0\n",
       "city                     0\n",
       "state                    0\n",
       "zip                      0\n",
       "lat                      0\n",
       "long                     0\n",
       "city_pop                 0\n",
       "job                      0\n",
       "dob                      0\n",
       "trans_num                0\n",
       "unix_time                0\n",
       "merch_lat                0\n",
       "merch_long               0\n",
       "is_fraud                 0\n",
       "risk_probability         0\n",
       "dtype: int64"
      ]
     },
     "execution_count": 5,
     "metadata": {},
     "output_type": "execute_result"
    }
   ],
   "source": [
    "data_Train.isnull().sum()"
   ]
  },
  {
   "cell_type": "code",
   "execution_count": 6,
   "id": "fbbee11a-b86c-4473-b9ae-5d365cea1706",
   "metadata": {},
   "outputs": [
    {
     "name": "stdout",
     "output_type": "stream",
     "text": [
      "<class 'pandas.core.frame.DataFrame'>\n",
      "RangeIndex: 6006 entries, 0 to 6005\n",
      "Data columns (total 24 columns):\n",
      " #   Column                 Non-Null Count  Dtype  \n",
      "---  ------                 --------------  -----  \n",
      " 0   Unnamed: 0             6006 non-null   int64  \n",
      " 1   trans_date_trans_time  6006 non-null   object \n",
      " 2   cc_num                 6006 non-null   float64\n",
      " 3   merchant               6006 non-null   object \n",
      " 4   category               6006 non-null   object \n",
      " 5   amt                    6006 non-null   float64\n",
      " 6   first                  6006 non-null   object \n",
      " 7   last                   6006 non-null   object \n",
      " 8   gender                 6006 non-null   object \n",
      " 9   street                 6006 non-null   object \n",
      " 10  city                   6006 non-null   object \n",
      " 11  state                  6006 non-null   object \n",
      " 12  zip                    6006 non-null   int64  \n",
      " 13  lat                    6006 non-null   float64\n",
      " 14  long                   6006 non-null   float64\n",
      " 15  city_pop               6006 non-null   int64  \n",
      " 16  job                    6006 non-null   object \n",
      " 17  dob                    6006 non-null   object \n",
      " 18  trans_num              6006 non-null   object \n",
      " 19  unix_time              6006 non-null   int64  \n",
      " 20  merch_lat              6006 non-null   float64\n",
      " 21  merch_long             6006 non-null   float64\n",
      " 22  is_fraud               6006 non-null   int64  \n",
      " 23  risk_probability       6006 non-null   float64\n",
      "dtypes: float64(7), int64(5), object(12)\n",
      "memory usage: 1.1+ MB\n"
     ]
    }
   ],
   "source": [
    "data_Train.info()"
   ]
  },
  {
   "cell_type": "code",
   "execution_count": 7,
   "id": "d9bc5d32-3e3e-4c94-b4cf-41ab1b55da7c",
   "metadata": {},
   "outputs": [
    {
     "data": {
      "text/html": [
       "<div>\n",
       "<style scoped>\n",
       "    .dataframe tbody tr th:only-of-type {\n",
       "        vertical-align: middle;\n",
       "    }\n",
       "\n",
       "    .dataframe tbody tr th {\n",
       "        vertical-align: top;\n",
       "    }\n",
       "\n",
       "    .dataframe thead th {\n",
       "        text-align: right;\n",
       "    }\n",
       "</style>\n",
       "<table border=\"1\" class=\"dataframe\">\n",
       "  <thead>\n",
       "    <tr style=\"text-align: right;\">\n",
       "      <th></th>\n",
       "      <th>Unnamed: 0</th>\n",
       "      <th>trans_date_trans_time</th>\n",
       "      <th>cc_num</th>\n",
       "      <th>merchant</th>\n",
       "      <th>category</th>\n",
       "      <th>amt</th>\n",
       "      <th>first</th>\n",
       "      <th>last</th>\n",
       "      <th>gender</th>\n",
       "      <th>street</th>\n",
       "      <th>...</th>\n",
       "      <th>long</th>\n",
       "      <th>city_pop</th>\n",
       "      <th>job</th>\n",
       "      <th>dob</th>\n",
       "      <th>trans_num</th>\n",
       "      <th>unix_time</th>\n",
       "      <th>merch_lat</th>\n",
       "      <th>merch_long</th>\n",
       "      <th>is_fraud</th>\n",
       "      <th>risk_probability</th>\n",
       "    </tr>\n",
       "  </thead>\n",
       "  <tbody>\n",
       "    <tr>\n",
       "      <th>0</th>\n",
       "      <td>2449</td>\n",
       "      <td>1/2/2019 1:06</td>\n",
       "      <td>4.613310e+12</td>\n",
       "      <td>fraud_Rutherford-Mertz</td>\n",
       "      <td>grocery_pos</td>\n",
       "      <td>281.06</td>\n",
       "      <td>Jason</td>\n",
       "      <td>Murphy</td>\n",
       "      <td>M</td>\n",
       "      <td>542 Steve Curve Suite 011</td>\n",
       "      <td>...</td>\n",
       "      <td>-81.7266</td>\n",
       "      <td>885</td>\n",
       "      <td>Soil scientist</td>\n",
       "      <td>9/15/1988</td>\n",
       "      <td>e8a81877ae9a0a7f883e15cb39dc4022</td>\n",
       "      <td>1325466397</td>\n",
       "      <td>36.430124</td>\n",
       "      <td>-81.179483</td>\n",
       "      <td>1</td>\n",
       "      <td>0.712407</td>\n",
       "    </tr>\n",
       "    <tr>\n",
       "      <th>1</th>\n",
       "      <td>2472</td>\n",
       "      <td>1/2/2019 1:47</td>\n",
       "      <td>3.401870e+14</td>\n",
       "      <td>fraud_Jenkins, Hauck and Friesen</td>\n",
       "      <td>gas_transport</td>\n",
       "      <td>11.52</td>\n",
       "      <td>Misty</td>\n",
       "      <td>Hart</td>\n",
       "      <td>F</td>\n",
       "      <td>27954 Hall Mill Suite 575</td>\n",
       "      <td>...</td>\n",
       "      <td>-98.4590</td>\n",
       "      <td>1595797</td>\n",
       "      <td>Horticultural consultant</td>\n",
       "      <td>10/28/1960</td>\n",
       "      <td>bc7d41c41103877b03232f03f1f8d3f5</td>\n",
       "      <td>1325468849</td>\n",
       "      <td>29.819364</td>\n",
       "      <td>-99.142791</td>\n",
       "      <td>1</td>\n",
       "      <td>0.576108</td>\n",
       "    </tr>\n",
       "  </tbody>\n",
       "</table>\n",
       "<p>2 rows × 24 columns</p>\n",
       "</div>"
      ],
      "text/plain": [
       "   Unnamed: 0 trans_date_trans_time        cc_num  \\\n",
       "0        2449         1/2/2019 1:06  4.613310e+12   \n",
       "1        2472         1/2/2019 1:47  3.401870e+14   \n",
       "\n",
       "                           merchant       category     amt  first    last  \\\n",
       "0            fraud_Rutherford-Mertz    grocery_pos  281.06  Jason  Murphy   \n",
       "1  fraud_Jenkins, Hauck and Friesen  gas_transport   11.52  Misty    Hart   \n",
       "\n",
       "  gender                     street  ...     long city_pop  \\\n",
       "0      M  542 Steve Curve Suite 011  ... -81.7266      885   \n",
       "1      F  27954 Hall Mill Suite 575  ... -98.4590  1595797   \n",
       "\n",
       "                        job         dob                         trans_num  \\\n",
       "0            Soil scientist   9/15/1988  e8a81877ae9a0a7f883e15cb39dc4022   \n",
       "1  Horticultural consultant  10/28/1960  bc7d41c41103877b03232f03f1f8d3f5   \n",
       "\n",
       "    unix_time  merch_lat merch_long is_fraud  risk_probability  \n",
       "0  1325466397  36.430124 -81.179483        1          0.712407  \n",
       "1  1325468849  29.819364 -99.142791        1          0.576108  \n",
       "\n",
       "[2 rows x 24 columns]"
      ]
     },
     "execution_count": 7,
     "metadata": {},
     "output_type": "execute_result"
    }
   ],
   "source": [
    "data_Train.head(2)"
   ]
  },
  {
   "cell_type": "code",
   "execution_count": 8,
   "id": "ec17ba32-86df-4938-93d0-a72efe026a64",
   "metadata": {},
   "outputs": [
    {
     "data": {
      "text/plain": [
       "5851"
      ]
     },
     "execution_count": 8,
     "metadata": {},
     "output_type": "execute_result"
    }
   ],
   "source": [
    "len(data_Train['trans_date_trans_time'].value_counts())"
   ]
  },
  {
   "cell_type": "code",
   "execution_count": 9,
   "id": "a8ba0994-0935-4d99-9ed8-affb52437cb4",
   "metadata": {},
   "outputs": [
    {
     "data": {
      "text/plain": [
       "merchant\n",
       "fraud_Padberg-Welch                    40\n",
       "fraud_Rau and Sons                     39\n",
       "fraud_Hudson-Ratke                     39\n",
       "fraud_Vandervort-Funk                  38\n",
       "fraud_Kilback LLC                      38\n",
       "                                       ..\n",
       "fraud_Mante, Luettgen and Hackett       1\n",
       "fraud_Thiel Ltd                         1\n",
       "fraud_Langosh, Wintheiser and Hyatt     1\n",
       "fraud_Erdman-Schaden                    1\n",
       "fraud_Cummerata-Hilpert                 1\n",
       "Name: count, Length: 666, dtype: int64"
      ]
     },
     "execution_count": 9,
     "metadata": {},
     "output_type": "execute_result"
    }
   ],
   "source": [
    "data_Train['merchant'].value_counts()"
   ]
  },
  {
   "cell_type": "code",
   "execution_count": 10,
   "id": "66e9abb8-4a70-4f2b-8582-820c9bb725d8",
   "metadata": {},
   "outputs": [
    {
     "data": {
      "text/plain": [
       "666"
      ]
     },
     "execution_count": 10,
     "metadata": {},
     "output_type": "execute_result"
    }
   ],
   "source": [
    "len(data_Train['merchant'].value_counts())"
   ]
  },
  {
   "cell_type": "code",
   "execution_count": 11,
   "id": "68c6f9d0-7664-4f0e-a530-847e0ab5e7c7",
   "metadata": {},
   "outputs": [
    {
     "data": {
      "text/plain": [
       "category\n",
       "grocery_pos       1396\n",
       "shopping_net      1375\n",
       "misc_net           742\n",
       "shopping_pos       662\n",
       "gas_transport      498\n",
       "misc_pos           194\n",
       "kids_pets          194\n",
       "entertainment      185\n",
       "personal_care      172\n",
       "home               153\n",
       "food_dining        121\n",
       "grocery_net        110\n",
       "health_fitness     104\n",
       "travel             100\n",
       "Name: count, dtype: int64"
      ]
     },
     "execution_count": 11,
     "metadata": {},
     "output_type": "execute_result"
    }
   ],
   "source": [
    "data_Train['category'].value_counts()"
   ]
  },
  {
   "cell_type": "code",
   "execution_count": 12,
   "id": "6a8efe42-948b-4ba9-957c-d8136b63aefb",
   "metadata": {},
   "outputs": [
    {
     "data": {
      "text/plain": [
       "14"
      ]
     },
     "execution_count": 12,
     "metadata": {},
     "output_type": "execute_result"
    }
   ],
   "source": [
    "len(data_Train['category'].value_counts())"
   ]
  },
  {
   "cell_type": "code",
   "execution_count": 13,
   "id": "408def96-fdc7-4242-83ec-88d84a152001",
   "metadata": {},
   "outputs": [
    {
     "data": {
      "text/plain": [
       "first\n",
       "Robert         154\n",
       "Christopher    121\n",
       "James          106\n",
       "David           98\n",
       "Michael         97\n",
       "              ... \n",
       "Kayla            4\n",
       "Willie           4\n",
       "Sara             3\n",
       "Lauren           3\n",
       "Jordan           2\n",
       "Name: count, Length: 282, dtype: int64"
      ]
     },
     "execution_count": 13,
     "metadata": {},
     "output_type": "execute_result"
    }
   ],
   "source": [
    "data_Train['first'].value_counts()"
   ]
  },
  {
   "cell_type": "code",
   "execution_count": 14,
   "id": "3f43f865-36c7-4e62-84a2-3316f9c73b13",
   "metadata": {},
   "outputs": [
    {
     "data": {
      "text/plain": [
       "282"
      ]
     },
     "execution_count": 14,
     "metadata": {},
     "output_type": "execute_result"
    }
   ],
   "source": [
    "len(data_Train['first'].value_counts())"
   ]
  },
  {
   "cell_type": "code",
   "execution_count": 15,
   "id": "4f5b7be2-acc3-41e5-ab38-02693ce8e9c9",
   "metadata": {},
   "outputs": [
    {
     "data": {
      "text/plain": [
       "last\n",
       "Martinez    120\n",
       "Johnson     120\n",
       "Jones       111\n",
       "Smith       110\n",
       "Davis       109\n",
       "           ... \n",
       "Alvarez       4\n",
       "Hardy         4\n",
       "Curtis        3\n",
       "Nolan         2\n",
       "May           2\n",
       "Name: count, Length: 365, dtype: int64"
      ]
     },
     "execution_count": 15,
     "metadata": {},
     "output_type": "execute_result"
    }
   ],
   "source": [
    "data_Train['last'].value_counts()"
   ]
  },
  {
   "cell_type": "code",
   "execution_count": 16,
   "id": "098212d5-5532-43f8-985f-c9eb9150ff11",
   "metadata": {},
   "outputs": [
    {
     "data": {
      "text/plain": [
       "365"
      ]
     },
     "execution_count": 16,
     "metadata": {},
     "output_type": "execute_result"
    }
   ],
   "source": [
    "len(data_Train['last'].value_counts())"
   ]
  },
  {
   "cell_type": "code",
   "execution_count": 17,
   "id": "7ba13df6-6ee7-4b24-a225-4c2236e39139",
   "metadata": {},
   "outputs": [
    {
     "data": {
      "text/plain": [
       "gender\n",
       "M    3031\n",
       "F    2975\n",
       "Name: count, dtype: int64"
      ]
     },
     "execution_count": 17,
     "metadata": {},
     "output_type": "execute_result"
    }
   ],
   "source": [
    "data_Train['gender'].value_counts()"
   ]
  },
  {
   "cell_type": "code",
   "execution_count": 18,
   "id": "7156d1e3-4f6f-4f70-a117-60287d6a1297",
   "metadata": {},
   "outputs": [
    {
     "data": {
      "text/plain": [
       "2"
      ]
     },
     "execution_count": 18,
     "metadata": {},
     "output_type": "execute_result"
    }
   ],
   "source": [
    "len(data_Train['gender'].value_counts())"
   ]
  },
  {
   "cell_type": "code",
   "execution_count": 19,
   "id": "1a81bd07-e41c-499a-afb9-2974f9799251",
   "metadata": {},
   "outputs": [
    {
     "data": {
      "text/plain": [
       "street\n",
       "15315 Vaughn Park Suite 356       19\n",
       "5205 Annette Islands Apt. 043     19\n",
       "0374 Courtney Islands Apt. 400    18\n",
       "6970 Blake Trail                  16\n",
       "889 Sarah Station Suite 624       16\n",
       "                                  ..\n",
       "594 Berry Lights Apt. 392          2\n",
       "670 Le Meadows Suite 250           2\n",
       "312 Eric Expressway Apt. 014       2\n",
       "72269 Elizabeth Field Apt. 132     2\n",
       "1626 Susan Course                  2\n",
       "Name: count, Length: 608, dtype: int64"
      ]
     },
     "execution_count": 19,
     "metadata": {},
     "output_type": "execute_result"
    }
   ],
   "source": [
    "data_Train['street'].value_counts()"
   ]
  },
  {
   "cell_type": "code",
   "execution_count": 20,
   "id": "508d0753-99fc-46ee-b444-2c9d6db46c2c",
   "metadata": {},
   "outputs": [
    {
     "data": {
      "text/plain": [
       "608"
      ]
     },
     "execution_count": 20,
     "metadata": {},
     "output_type": "execute_result"
    }
   ],
   "source": [
    "len(data_Train['street'].value_counts())"
   ]
  },
  {
   "cell_type": "code",
   "execution_count": 21,
   "id": "45df478d-2352-4598-953e-b5c84a18e4ec",
   "metadata": {},
   "outputs": [
    {
     "data": {
      "text/plain": [
       "city\n",
       "Warren         33\n",
       "Naples         29\n",
       "Dallas         27\n",
       "Detroit        26\n",
       "Utica          25\n",
       "               ..\n",
       "Hurricane       3\n",
       "Grandview       3\n",
       "Phenix City     2\n",
       "Phoenix         2\n",
       "Aledo           2\n",
       "Name: count, Length: 568, dtype: int64"
      ]
     },
     "execution_count": 21,
     "metadata": {},
     "output_type": "execute_result"
    }
   ],
   "source": [
    "data_Train['city'].value_counts()"
   ]
  },
  {
   "cell_type": "code",
   "execution_count": 22,
   "id": "ae189d19-c841-48b7-9b68-f72dd0d71eb4",
   "metadata": {},
   "outputs": [
    {
     "data": {
      "text/plain": [
       "568"
      ]
     },
     "execution_count": 22,
     "metadata": {},
     "output_type": "execute_result"
    }
   ],
   "source": [
    "len(data_Train['city'].value_counts())"
   ]
  },
  {
   "cell_type": "code",
   "execution_count": 23,
   "id": "165349d4-27e0-475f-a132-3b70c7b34509",
   "metadata": {},
   "outputs": [
    {
     "data": {
      "text/plain": [
       "state\n",
       "NY    483\n",
       "TX    391\n",
       "PA    345\n",
       "OH    267\n",
       "FL    263\n",
       "CA    263\n",
       "MI    209\n",
       "IL    204\n",
       "AL    183\n",
       "MO    180\n",
       "MN    167\n",
       "NE    150\n",
       "VA    146\n",
       "AR    145\n",
       "SC    143\n",
       "KY    141\n",
       "WI    134\n",
       "MD    120\n",
       "IA    119\n",
       "NC    118\n",
       "OR    115\n",
       "OK    113\n",
       "TN    113\n",
       "WV    106\n",
       "ME     99\n",
       "WY     95\n",
       "GA     93\n",
       "IN     91\n",
       "NJ     87\n",
       "KS     82\n",
       "CO     79\n",
       "LA     75\n",
       "MS     73\n",
       "NM     70\n",
       "WA     69\n",
       "SD     53\n",
       "NH     49\n",
       "MA     49\n",
       "ND     45\n",
       "NV     39\n",
       "UT     38\n",
       "VT     34\n",
       "MT     32\n",
       "AZ     30\n",
       "AK     27\n",
       "DC     21\n",
       "CT     16\n",
       "RI     15\n",
       "ID     11\n",
       "DE      9\n",
       "HI      7\n",
       "Name: count, dtype: int64"
      ]
     },
     "execution_count": 23,
     "metadata": {},
     "output_type": "execute_result"
    }
   ],
   "source": [
    "data_Train['state'].value_counts()"
   ]
  },
  {
   "cell_type": "code",
   "execution_count": 24,
   "id": "ba62f212-afe7-4571-a934-cd059444d5de",
   "metadata": {},
   "outputs": [
    {
     "data": {
      "text/plain": [
       "51"
      ]
     },
     "execution_count": 24,
     "metadata": {},
     "output_type": "execute_result"
    }
   ],
   "source": [
    "len(data_Train['state'].value_counts())"
   ]
  },
  {
   "cell_type": "code",
   "execution_count": 25,
   "id": "608e7e76-121d-490c-add3-5aedddc21040",
   "metadata": {},
   "outputs": [
    {
     "data": {
      "text/plain": [
       "zip\n",
       "48088    23\n",
       "82514    21\n",
       "68375    19\n",
       "55606    19\n",
       "95148    18\n",
       "         ..\n",
       "85020     2\n",
       "28405     2\n",
       "36869     2\n",
       "33811     2\n",
       "76008     2\n",
       "Name: count, Length: 603, dtype: int64"
      ]
     },
     "execution_count": 25,
     "metadata": {},
     "output_type": "execute_result"
    }
   ],
   "source": [
    "data_Train['zip'].value_counts()"
   ]
  },
  {
   "cell_type": "code",
   "execution_count": 26,
   "id": "ee240bc5-e717-4ada-baeb-509cdd988166",
   "metadata": {},
   "outputs": [
    {
     "data": {
      "text/plain": [
       "603"
      ]
     },
     "execution_count": 26,
     "metadata": {},
     "output_type": "execute_result"
    }
   ],
   "source": [
    "len(data_Train['zip'].value_counts())"
   ]
  },
  {
   "cell_type": "code",
   "execution_count": 27,
   "id": "0724eb0a-7596-4484-963e-b8dfd5c93d57",
   "metadata": {},
   "outputs": [
    {
     "data": {
      "text/plain": [
       "job\n",
       "Materials engineer                      50\n",
       "Surveyor, land/geomatics                50\n",
       "Exhibition designer                     44\n",
       "Financial trader                        43\n",
       "Mechanical engineer                     41\n",
       "                                        ..\n",
       "Statistician                             3\n",
       "Chartered loss adjuster                  3\n",
       "Contractor                               2\n",
       "English as a second language teacher     2\n",
       "Optometrist                              2\n",
       "Name: count, Length: 396, dtype: int64"
      ]
     },
     "execution_count": 27,
     "metadata": {},
     "output_type": "execute_result"
    }
   ],
   "source": [
    "data_Train['job'].value_counts()"
   ]
  },
  {
   "cell_type": "code",
   "execution_count": 28,
   "id": "8baa8740-9567-4cb6-8147-65eeb7812ba6",
   "metadata": {},
   "outputs": [
    {
     "data": {
      "text/plain": [
       "396"
      ]
     },
     "execution_count": 28,
     "metadata": {},
     "output_type": "execute_result"
    }
   ],
   "source": [
    "len(data_Train['job'].value_counts())"
   ]
  },
  {
   "cell_type": "code",
   "execution_count": 29,
   "id": "de57dbd3-dbb1-4e15-a294-b3ba90d86bb5",
   "metadata": {},
   "outputs": [
    {
     "data": {
      "text/plain": [
       "dob\n",
       "1/6/1942      23\n",
       "3/15/1938     21\n",
       "7/5/2001      19\n",
       "4/4/1996      19\n",
       "8/4/1997      18\n",
       "              ..\n",
       "2/8/1983       2\n",
       "10/24/1981     2\n",
       "2/7/1984       2\n",
       "7/3/1979       2\n",
       "7/5/1984       2\n",
       "Name: count, Length: 604, dtype: int64"
      ]
     },
     "execution_count": 29,
     "metadata": {},
     "output_type": "execute_result"
    }
   ],
   "source": [
    "data_Train['dob'].value_counts()"
   ]
  },
  {
   "cell_type": "code",
   "execution_count": 30,
   "id": "412ce6fa-7112-4919-be71-b27342baa0f3",
   "metadata": {},
   "outputs": [
    {
     "data": {
      "text/plain": [
       "604"
      ]
     },
     "execution_count": 30,
     "metadata": {},
     "output_type": "execute_result"
    }
   ],
   "source": [
    "len(data_Train['dob'].value_counts())"
   ]
  },
  {
   "cell_type": "code",
   "execution_count": 31,
   "id": "a8838f4c-fcf1-47b7-8089-822f542c4348",
   "metadata": {},
   "outputs": [
    {
     "data": {
      "text/plain": [
       "trans_num\n",
       "e8a81877ae9a0a7f883e15cb39dc4022    1\n",
       "d71945b0d35b29195eb72d9761b12a66    1\n",
       "f0a995b91d776fc1982544e4734897e9    1\n",
       "71f68eca507a0872db75874a5702145b    1\n",
       "1e4709037cd1f2b82e9055a06e8fc9f0    1\n",
       "                                   ..\n",
       "f85e35d889e3f60fab9350cdb4ba7741    1\n",
       "d5f5a0e68e0f8bc4a9a76bf7b853844b    1\n",
       "b941ff228753e159c7284e25960062fa    1\n",
       "9c6e61f985de9e5aee0ae3bd4b939470    1\n",
       "8f0bac74e340483b44babb0d6d07b85b    1\n",
       "Name: count, Length: 6006, dtype: int64"
      ]
     },
     "execution_count": 31,
     "metadata": {},
     "output_type": "execute_result"
    }
   ],
   "source": [
    "data_Train['trans_num'].value_counts()"
   ]
  },
  {
   "cell_type": "code",
   "execution_count": 32,
   "id": "f561e95b-9f84-4245-b438-1569372e6797",
   "metadata": {},
   "outputs": [
    {
     "data": {
      "text/plain": [
       "6006"
      ]
     },
     "execution_count": 32,
     "metadata": {},
     "output_type": "execute_result"
    }
   ],
   "source": [
    "len(data_Train['trans_num'].value_counts())"
   ]
  },
  {
   "cell_type": "code",
   "execution_count": 33,
   "id": "2cb4b46b-bdf4-4460-8a05-09b0c9e07e98",
   "metadata": {},
   "outputs": [],
   "source": [
    "data_Train['trans_date_trans_time']=pd.to_datetime(data_Train['trans_date_trans_time'],format='%m/%d/%Y %H:%M')\n",
    "data_Train['hour']=data_Train['trans_date_trans_time'].dt.hour\n"
   ]
  },
  {
   "cell_type": "code",
   "execution_count": 34,
   "id": "7b42559f-0672-4252-976b-a03747b2077d",
   "metadata": {
    "scrolled": true
   },
   "outputs": [
    {
     "data": {
      "text/plain": [
       "0        1\n",
       "1        1\n",
       "2        3\n",
       "3        3\n",
       "4        3\n",
       "        ..\n",
       "6001     3\n",
       "6002     4\n",
       "6003     4\n",
       "6004     8\n",
       "6005    12\n",
       "Name: hour, Length: 6006, dtype: int32"
      ]
     },
     "execution_count": 34,
     "metadata": {},
     "output_type": "execute_result"
    }
   ],
   "source": [
    "data_Train['hour']"
   ]
  },
  {
   "cell_type": "code",
   "execution_count": 35,
   "id": "0c36a4a9-ad27-4ccb-8183-3d8ce72300fd",
   "metadata": {},
   "outputs": [],
   "source": [
    "data_Train=data_Train.drop(columns=['Unnamed: 0','cc_num','is_fraud','unix_time','trans_date_trans_time','first','last','merchant', 'gender','street','city','state','zip','job','dob','trans_num'])\n"
   ]
  },
  {
   "cell_type": "code",
   "execution_count": 36,
   "id": "950cf0b6-96df-42b0-9c03-2642088289d4",
   "metadata": {},
   "outputs": [
    {
     "data": {
      "text/html": [
       "<div>\n",
       "<style scoped>\n",
       "    .dataframe tbody tr th:only-of-type {\n",
       "        vertical-align: middle;\n",
       "    }\n",
       "\n",
       "    .dataframe tbody tr th {\n",
       "        vertical-align: top;\n",
       "    }\n",
       "\n",
       "    .dataframe thead th {\n",
       "        text-align: right;\n",
       "    }\n",
       "</style>\n",
       "<table border=\"1\" class=\"dataframe\">\n",
       "  <thead>\n",
       "    <tr style=\"text-align: right;\">\n",
       "      <th></th>\n",
       "      <th>category</th>\n",
       "      <th>amt</th>\n",
       "      <th>lat</th>\n",
       "      <th>long</th>\n",
       "      <th>city_pop</th>\n",
       "      <th>merch_lat</th>\n",
       "      <th>merch_long</th>\n",
       "      <th>risk_probability</th>\n",
       "      <th>hour</th>\n",
       "    </tr>\n",
       "  </thead>\n",
       "  <tbody>\n",
       "    <tr>\n",
       "      <th>0</th>\n",
       "      <td>grocery_pos</td>\n",
       "      <td>281.06</td>\n",
       "      <td>35.9946</td>\n",
       "      <td>-81.7266</td>\n",
       "      <td>885</td>\n",
       "      <td>36.430124</td>\n",
       "      <td>-81.179483</td>\n",
       "      <td>0.712407</td>\n",
       "      <td>1</td>\n",
       "    </tr>\n",
       "    <tr>\n",
       "      <th>1</th>\n",
       "      <td>gas_transport</td>\n",
       "      <td>11.52</td>\n",
       "      <td>29.4400</td>\n",
       "      <td>-98.4590</td>\n",
       "      <td>1595797</td>\n",
       "      <td>29.819364</td>\n",
       "      <td>-99.142791</td>\n",
       "      <td>0.576108</td>\n",
       "      <td>1</td>\n",
       "    </tr>\n",
       "  </tbody>\n",
       "</table>\n",
       "</div>"
      ],
      "text/plain": [
       "        category     amt      lat     long  city_pop  merch_lat  merch_long  \\\n",
       "0    grocery_pos  281.06  35.9946 -81.7266       885  36.430124  -81.179483   \n",
       "1  gas_transport   11.52  29.4400 -98.4590   1595797  29.819364  -99.142791   \n",
       "\n",
       "   risk_probability  hour  \n",
       "0          0.712407     1  \n",
       "1          0.576108     1  "
      ]
     },
     "execution_count": 36,
     "metadata": {},
     "output_type": "execute_result"
    }
   ],
   "source": [
    "data_Train.head(2)"
   ]
  },
  {
   "cell_type": "code",
   "execution_count": 37,
   "id": "14c0b7a6-deda-42eb-b909-2488ab3c2020",
   "metadata": {},
   "outputs": [
    {
     "name": "stdout",
     "output_type": "stream",
     "text": [
      "category             object\n",
      "amt                 float64\n",
      "lat                 float64\n",
      "long                float64\n",
      "city_pop              int64\n",
      "merch_lat           float64\n",
      "merch_long          float64\n",
      "risk_probability    float64\n",
      "hour                  int32\n",
      "dtype: object\n"
     ]
    }
   ],
   "source": [
    "print(data_Train.dtypes) "
   ]
  },
  {
   "cell_type": "code",
   "execution_count": 38,
   "id": "7f00f006-3a3a-4eff-a5f8-417a89e95df1",
   "metadata": {},
   "outputs": [],
   "source": [
    "# Function to calculate distance between customer and merchant\n",
    "def calculate_distance(row):\n",
    "    customer_location = (row['lat'], row['long'])\n",
    "    merchant_location = (row['merch_lat'], row['merch_long'])\n",
    "    return geodesic(customer_location, merchant_location).kilometers"
   ]
  },
  {
   "cell_type": "code",
   "execution_count": 39,
   "id": "22349a8e-0046-491f-956b-0641fd38c69b",
   "metadata": {},
   "outputs": [],
   "source": [
    "# Apply the function to the DataFrame\n",
    "data_Train[\"distance_km\"] = data_Train.apply(calculate_distance, axis=1)"
   ]
  },
  {
   "cell_type": "code",
   "execution_count": 40,
   "id": "9d73c73b-3dc1-4801-9e25-aabaadeff761",
   "metadata": {},
   "outputs": [],
   "source": [
    "data_Train=data_Train.drop(columns=['lat','long','merch_lat','merch_long'])"
   ]
  },
  {
   "cell_type": "code",
   "execution_count": 41,
   "id": "21ba3a20-0d38-43df-8b5a-747f8bebc828",
   "metadata": {},
   "outputs": [
    {
     "name": "stdout",
     "output_type": "stream",
     "text": [
      "<class 'pandas.core.frame.DataFrame'>\n",
      "RangeIndex: 6006 entries, 0 to 6005\n",
      "Data columns (total 6 columns):\n",
      " #   Column            Non-Null Count  Dtype  \n",
      "---  ------            --------------  -----  \n",
      " 0   category          6006 non-null   object \n",
      " 1   amt               6006 non-null   float64\n",
      " 2   city_pop          6006 non-null   int64  \n",
      " 3   risk_probability  6006 non-null   float64\n",
      " 4   hour              6006 non-null   int32  \n",
      " 5   distance_km       6006 non-null   float64\n",
      "dtypes: float64(3), int32(1), int64(1), object(1)\n",
      "memory usage: 258.2+ KB\n"
     ]
    }
   ],
   "source": [
    "data_Train.info()"
   ]
  },
  {
   "cell_type": "code",
   "execution_count": 42,
   "id": "023cdfa2-3818-462d-97f5-36bee3f323d7",
   "metadata": {},
   "outputs": [
    {
     "name": "stdout",
     "output_type": "stream",
     "text": [
      "amt                 0.773250\n",
      "city_pop            0.028607\n",
      "risk_probability    1.000000\n",
      "hour                0.220414\n",
      "distance_km         0.382010\n",
      "Name: risk_probability, dtype: float64\n"
     ]
    }
   ],
   "source": [
    "correlation_matrix = data_Train.select_dtypes(include=['number']).corr()\n",
    "print(correlation_matrix['risk_probability'])"
   ]
  },
  {
   "cell_type": "code",
   "execution_count": 43,
   "id": "b75b4149-d63d-482e-ba46-09fa48b2e760",
   "metadata": {},
   "outputs": [],
   "source": [
    "# One-hot encode 'category' and 'gender', keeping only 0 and 1\n",
    "data_Train= pd.get_dummies(data_Train, columns=['category'], dtype=int)"
   ]
  },
  {
   "cell_type": "code",
   "execution_count": 44,
   "id": "8e4f2193-2e2a-4ad4-92a0-4bc1957720bb",
   "metadata": {},
   "outputs": [
    {
     "name": "stdout",
     "output_type": "stream",
     "text": [
      "      amt  city_pop  risk_probability  hour  distance_km  \\\n",
      "0  281.06       885          0.712407     1    68.962726   \n",
      "1   11.52   1595797          0.576108     1    78.443229   \n",
      "2  276.31   1595797          0.642621     3    41.048425   \n",
      "3    7.03       885          0.465530     3    34.211963   \n",
      "4  275.73   1595797          0.650312     3    44.124854   \n",
      "\n",
      "   category_entertainment  category_food_dining  category_gas_transport  \\\n",
      "0                       0                     0                       0   \n",
      "1                       0                     0                       1   \n",
      "2                       0                     0                       0   \n",
      "3                       0                     0                       1   \n",
      "4                       0                     0                       0   \n",
      "\n",
      "   category_grocery_net  category_grocery_pos  category_health_fitness  \\\n",
      "0                     0                     1                        0   \n",
      "1                     0                     0                        0   \n",
      "2                     0                     1                        0   \n",
      "3                     0                     0                        0   \n",
      "4                     0                     1                        0   \n",
      "\n",
      "   category_home  category_kids_pets  category_misc_net  category_misc_pos  \\\n",
      "0              0                   0                  0                  0   \n",
      "1              0                   0                  0                  0   \n",
      "2              0                   0                  0                  0   \n",
      "3              0                   0                  0                  0   \n",
      "4              0                   0                  0                  0   \n",
      "\n",
      "   category_personal_care  category_shopping_net  category_shopping_pos  \\\n",
      "0                       0                      0                      0   \n",
      "1                       0                      0                      0   \n",
      "2                       0                      0                      0   \n",
      "3                       0                      0                      0   \n",
      "4                       0                      0                      0   \n",
      "\n",
      "   category_travel  \n",
      "0                0  \n",
      "1                0  \n",
      "2                0  \n",
      "3                0  \n",
      "4                0  \n"
     ]
    }
   ],
   "source": [
    "# Display the resulting DataFrame\n",
    "print(data_Train.head())"
   ]
  },
  {
   "cell_type": "code",
   "execution_count": 45,
   "id": "eabffabd-76ff-4d94-a4eb-9c023ff7b0f6",
   "metadata": {},
   "outputs": [
    {
     "data": {
      "text/html": [
       "<div>\n",
       "<style scoped>\n",
       "    .dataframe tbody tr th:only-of-type {\n",
       "        vertical-align: middle;\n",
       "    }\n",
       "\n",
       "    .dataframe tbody tr th {\n",
       "        vertical-align: top;\n",
       "    }\n",
       "\n",
       "    .dataframe thead th {\n",
       "        text-align: right;\n",
       "    }\n",
       "</style>\n",
       "<table border=\"1\" class=\"dataframe\">\n",
       "  <thead>\n",
       "    <tr style=\"text-align: right;\">\n",
       "      <th></th>\n",
       "      <th>amt</th>\n",
       "      <th>city_pop</th>\n",
       "      <th>risk_probability</th>\n",
       "      <th>hour</th>\n",
       "      <th>distance_km</th>\n",
       "      <th>category_entertainment</th>\n",
       "      <th>category_food_dining</th>\n",
       "      <th>category_gas_transport</th>\n",
       "      <th>category_grocery_net</th>\n",
       "      <th>category_grocery_pos</th>\n",
       "      <th>category_health_fitness</th>\n",
       "      <th>category_home</th>\n",
       "      <th>category_kids_pets</th>\n",
       "      <th>category_misc_net</th>\n",
       "      <th>category_misc_pos</th>\n",
       "      <th>category_personal_care</th>\n",
       "      <th>category_shopping_net</th>\n",
       "      <th>category_shopping_pos</th>\n",
       "      <th>category_travel</th>\n",
       "    </tr>\n",
       "  </thead>\n",
       "  <tbody>\n",
       "    <tr>\n",
       "      <th>0</th>\n",
       "      <td>281.06</td>\n",
       "      <td>885</td>\n",
       "      <td>0.712407</td>\n",
       "      <td>1</td>\n",
       "      <td>68.962726</td>\n",
       "      <td>0</td>\n",
       "      <td>0</td>\n",
       "      <td>0</td>\n",
       "      <td>0</td>\n",
       "      <td>1</td>\n",
       "      <td>0</td>\n",
       "      <td>0</td>\n",
       "      <td>0</td>\n",
       "      <td>0</td>\n",
       "      <td>0</td>\n",
       "      <td>0</td>\n",
       "      <td>0</td>\n",
       "      <td>0</td>\n",
       "      <td>0</td>\n",
       "    </tr>\n",
       "    <tr>\n",
       "      <th>1</th>\n",
       "      <td>11.52</td>\n",
       "      <td>1595797</td>\n",
       "      <td>0.576108</td>\n",
       "      <td>1</td>\n",
       "      <td>78.443229</td>\n",
       "      <td>0</td>\n",
       "      <td>0</td>\n",
       "      <td>1</td>\n",
       "      <td>0</td>\n",
       "      <td>0</td>\n",
       "      <td>0</td>\n",
       "      <td>0</td>\n",
       "      <td>0</td>\n",
       "      <td>0</td>\n",
       "      <td>0</td>\n",
       "      <td>0</td>\n",
       "      <td>0</td>\n",
       "      <td>0</td>\n",
       "      <td>0</td>\n",
       "    </tr>\n",
       "  </tbody>\n",
       "</table>\n",
       "</div>"
      ],
      "text/plain": [
       "      amt  city_pop  risk_probability  hour  distance_km  \\\n",
       "0  281.06       885          0.712407     1    68.962726   \n",
       "1   11.52   1595797          0.576108     1    78.443229   \n",
       "\n",
       "   category_entertainment  category_food_dining  category_gas_transport  \\\n",
       "0                       0                     0                       0   \n",
       "1                       0                     0                       1   \n",
       "\n",
       "   category_grocery_net  category_grocery_pos  category_health_fitness  \\\n",
       "0                     0                     1                        0   \n",
       "1                     0                     0                        0   \n",
       "\n",
       "   category_home  category_kids_pets  category_misc_net  category_misc_pos  \\\n",
       "0              0                   0                  0                  0   \n",
       "1              0                   0                  0                  0   \n",
       "\n",
       "   category_personal_care  category_shopping_net  category_shopping_pos  \\\n",
       "0                       0                      0                      0   \n",
       "1                       0                      0                      0   \n",
       "\n",
       "   category_travel  \n",
       "0                0  \n",
       "1                0  "
      ]
     },
     "execution_count": 45,
     "metadata": {},
     "output_type": "execute_result"
    }
   ],
   "source": [
    "data_Train.head(2)"
   ]
  },
  {
   "cell_type": "code",
   "execution_count": 46,
   "id": "569f0b2c-cd8a-4f4f-8f04-0f405ca7f32f",
   "metadata": {},
   "outputs": [
    {
     "name": "stdout",
     "output_type": "stream",
     "text": [
      "<class 'pandas.core.frame.DataFrame'>\n",
      "RangeIndex: 6006 entries, 0 to 6005\n",
      "Data columns (total 19 columns):\n",
      " #   Column                   Non-Null Count  Dtype  \n",
      "---  ------                   --------------  -----  \n",
      " 0   amt                      6006 non-null   float64\n",
      " 1   city_pop                 6006 non-null   int64  \n",
      " 2   risk_probability         6006 non-null   float64\n",
      " 3   hour                     6006 non-null   int32  \n",
      " 4   distance_km              6006 non-null   float64\n",
      " 5   category_entertainment   6006 non-null   int32  \n",
      " 6   category_food_dining     6006 non-null   int32  \n",
      " 7   category_gas_transport   6006 non-null   int32  \n",
      " 8   category_grocery_net     6006 non-null   int32  \n",
      " 9   category_grocery_pos     6006 non-null   int32  \n",
      " 10  category_health_fitness  6006 non-null   int32  \n",
      " 11  category_home            6006 non-null   int32  \n",
      " 12  category_kids_pets       6006 non-null   int32  \n",
      " 13  category_misc_net        6006 non-null   int32  \n",
      " 14  category_misc_pos        6006 non-null   int32  \n",
      " 15  category_personal_care   6006 non-null   int32  \n",
      " 16  category_shopping_net    6006 non-null   int32  \n",
      " 17  category_shopping_pos    6006 non-null   int32  \n",
      " 18  category_travel          6006 non-null   int32  \n",
      "dtypes: float64(3), int32(15), int64(1)\n",
      "memory usage: 539.7 KB\n"
     ]
    }
   ],
   "source": [
    "data_Train.info()"
   ]
  },
  {
   "cell_type": "code",
   "execution_count": 47,
   "id": "c47a8916-7f95-4238-bd36-aa62c43b244b",
   "metadata": {},
   "outputs": [
    {
     "data": {
      "text/plain": [
       "(6006, 19)"
      ]
     },
     "execution_count": 47,
     "metadata": {},
     "output_type": "execute_result"
    }
   ],
   "source": [
    "data_Train.shape"
   ]
  },
  {
   "cell_type": "code",
   "execution_count": 48,
   "id": "b43c2c37-4c8a-45ad-a37f-01661825e564",
   "metadata": {},
   "outputs": [],
   "source": [
    "data_Train.to_csv('New_Train.csv',index=False)"
   ]
  },
  {
   "cell_type": "code",
   "execution_count": null,
   "id": "7cfc85ba-cca0-4b0d-9935-d766d9f1c54e",
   "metadata": {},
   "outputs": [],
   "source": []
  }
 ],
 "metadata": {
  "kernelspec": {
   "display_name": "Python 3 (ipykernel)",
   "language": "python",
   "name": "python3"
  },
  "language_info": {
   "codemirror_mode": {
    "name": "ipython",
    "version": 3
   },
   "file_extension": ".py",
   "mimetype": "text/x-python",
   "name": "python",
   "nbconvert_exporter": "python",
   "pygments_lexer": "ipython3",
   "version": "3.12.2"
  }
 },
 "nbformat": 4,
 "nbformat_minor": 5
}
