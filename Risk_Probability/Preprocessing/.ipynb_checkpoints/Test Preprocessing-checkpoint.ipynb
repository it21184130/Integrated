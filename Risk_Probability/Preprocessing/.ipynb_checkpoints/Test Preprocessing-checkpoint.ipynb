{
 "cells": [
  {
   "cell_type": "code",
   "execution_count": 39,
   "id": "d456f53a-f033-4dee-a647-8f09fc85fd02",
   "metadata": {},
   "outputs": [
    {
     "name": "stdout",
     "output_type": "stream",
     "text": [
      "Collecting geopy"
     ]
    },
    {
     "name": "stderr",
     "output_type": "stream",
     "text": [
      "\n",
      "[notice] A new release of pip is available: 24.0 -> 24.3.1\n",
      "[notice] To update, run: python.exe -m pip install --upgrade pip\n"
     ]
    },
    {
     "name": "stdout",
     "output_type": "stream",
     "text": [
      "\n",
      "  Downloading geopy-2.4.1-py3-none-any.whl.metadata (6.8 kB)\n",
      "Collecting geographiclib<3,>=1.52 (from geopy)\n",
      "  Downloading geographiclib-2.0-py3-none-any.whl.metadata (1.4 kB)\n",
      "Downloading geopy-2.4.1-py3-none-any.whl (125 kB)\n",
      "   ---------------------------------------- 0.0/125.4 kB ? eta -:--:--\n",
      "   --- ------------------------------------ 10.2/125.4 kB ? eta -:--:--\n",
      "   --------- ----------------------------- 30.7/125.4 kB 435.7 kB/s eta 0:00:01\n",
      "   --------- ----------------------------- 30.7/125.4 kB 435.7 kB/s eta 0:00:01\n",
      "   ------------ -------------------------- 41.0/125.4 kB 219.4 kB/s eta 0:00:01\n",
      "   ------------------- ------------------- 61.4/125.4 kB 297.7 kB/s eta 0:00:01\n",
      "   ------------------------- ------------- 81.9/125.4 kB 353.1 kB/s eta 0:00:01\n",
      "   ---------------------------------- --- 112.6/125.4 kB 409.6 kB/s eta 0:00:01\n",
      "   -------------------------------------  122.9/125.4 kB 379.3 kB/s eta 0:00:01\n",
      "   -------------------------------------  122.9/125.4 kB 379.3 kB/s eta 0:00:01\n",
      "   -------------------------------------  122.9/125.4 kB 379.3 kB/s eta 0:00:01\n",
      "   -------------------------------------  122.9/125.4 kB 379.3 kB/s eta 0:00:01\n",
      "   -------------------------------------- 125.4/125.4 kB 230.4 kB/s eta 0:00:00\n",
      "Downloading geographiclib-2.0-py3-none-any.whl (40 kB)\n",
      "   ---------------------------------------- 0.0/40.3 kB ? eta -:--:--\n",
      "   ---------- ----------------------------- 10.2/40.3 kB ? eta -:--:--\n",
      "   ---------------------------------------- 40.3/40.3 kB 640.1 kB/s eta 0:00:00\n",
      "Installing collected packages: geographiclib, geopy\n",
      "Successfully installed geographiclib-2.0 geopy-2.4.1\n"
     ]
    }
   ],
   "source": [
    "!pip install geopy"
   ]
  },
  {
   "cell_type": "code",
   "execution_count": 1,
   "id": "9398b69e-e8ad-4c72-9518-0dd6c0283f36",
   "metadata": {},
   "outputs": [],
   "source": [
    "from geopy.distance import geodesic"
   ]
  },
  {
   "cell_type": "code",
   "execution_count": 2,
   "id": "cfbfcbae-53bf-42db-b069-61ac712bd9f2",
   "metadata": {},
   "outputs": [],
   "source": [
    "import pandas as pd\n",
    "import numpy as np"
   ]
  },
  {
   "cell_type": "code",
   "execution_count": 3,
   "id": "7150e3b2-c4ad-4cca-8f80-16508305287b",
   "metadata": {},
   "outputs": [
    {
     "data": {
      "text/html": [
       "<div>\n",
       "<style scoped>\n",
       "    .dataframe tbody tr th:only-of-type {\n",
       "        vertical-align: middle;\n",
       "    }\n",
       "\n",
       "    .dataframe tbody tr th {\n",
       "        vertical-align: top;\n",
       "    }\n",
       "\n",
       "    .dataframe thead th {\n",
       "        text-align: right;\n",
       "    }\n",
       "</style>\n",
       "<table border=\"1\" class=\"dataframe\">\n",
       "  <thead>\n",
       "    <tr style=\"text-align: right;\">\n",
       "      <th></th>\n",
       "      <th>Unnamed: 0</th>\n",
       "      <th>trans_date_trans_time</th>\n",
       "      <th>cc_num</th>\n",
       "      <th>merchant</th>\n",
       "      <th>category</th>\n",
       "      <th>amt</th>\n",
       "      <th>first</th>\n",
       "      <th>last</th>\n",
       "      <th>gender</th>\n",
       "      <th>street</th>\n",
       "      <th>...</th>\n",
       "      <th>long</th>\n",
       "      <th>city_pop</th>\n",
       "      <th>job</th>\n",
       "      <th>dob</th>\n",
       "      <th>trans_num</th>\n",
       "      <th>unix_time</th>\n",
       "      <th>merch_lat</th>\n",
       "      <th>merch_long</th>\n",
       "      <th>is_fraud</th>\n",
       "      <th>risk_probability</th>\n",
       "    </tr>\n",
       "  </thead>\n",
       "  <tbody>\n",
       "    <tr>\n",
       "      <th>0</th>\n",
       "      <td>1685</td>\n",
       "      <td>6/21/2020 22:06</td>\n",
       "      <td>3.560730e+15</td>\n",
       "      <td>fraud_Hamill-D'Amore</td>\n",
       "      <td>health_fitness</td>\n",
       "      <td>24.84</td>\n",
       "      <td>Brooke</td>\n",
       "      <td>Smith</td>\n",
       "      <td>F</td>\n",
       "      <td>63542 Luna Brook Apt. 012</td>\n",
       "      <td>...</td>\n",
       "      <td>-102.7413</td>\n",
       "      <td>23</td>\n",
       "      <td>Cytogeneticist</td>\n",
       "      <td>9/15/1969</td>\n",
       "      <td>16bf2e46c54369a8eab2214649506425</td>\n",
       "      <td>1371852399</td>\n",
       "      <td>32.575873</td>\n",
       "      <td>-102.604290</td>\n",
       "      <td>1</td>\n",
       "      <td>0.581096</td>\n",
       "    </tr>\n",
       "    <tr>\n",
       "      <th>1</th>\n",
       "      <td>1767</td>\n",
       "      <td>6/21/2020 22:32</td>\n",
       "      <td>6.564460e+15</td>\n",
       "      <td>fraud_Rodriguez, Yost and Jenkins</td>\n",
       "      <td>misc_net</td>\n",
       "      <td>780.52</td>\n",
       "      <td>Douglas</td>\n",
       "      <td>Willis</td>\n",
       "      <td>M</td>\n",
       "      <td>619 Jeremy Garden Apt. 681</td>\n",
       "      <td>...</td>\n",
       "      <td>-90.3508</td>\n",
       "      <td>1306</td>\n",
       "      <td>Public relations officer</td>\n",
       "      <td>9/10/1958</td>\n",
       "      <td>ab4b379d2c0c9c667d46508d4e126d72</td>\n",
       "      <td>1371853942</td>\n",
       "      <td>42.461127</td>\n",
       "      <td>-91.147148</td>\n",
       "      <td>1</td>\n",
       "      <td>0.825668</td>\n",
       "    </tr>\n",
       "    <tr>\n",
       "      <th>2</th>\n",
       "      <td>1781</td>\n",
       "      <td>6/21/2020 22:37</td>\n",
       "      <td>6.564460e+15</td>\n",
       "      <td>fraud_Nienow PLC</td>\n",
       "      <td>entertainment</td>\n",
       "      <td>620.33</td>\n",
       "      <td>Douglas</td>\n",
       "      <td>Willis</td>\n",
       "      <td>M</td>\n",
       "      <td>619 Jeremy Garden Apt. 681</td>\n",
       "      <td>...</td>\n",
       "      <td>-90.3508</td>\n",
       "      <td>1306</td>\n",
       "      <td>Public relations officer</td>\n",
       "      <td>9/10/1958</td>\n",
       "      <td>47a9987ae81d99f7832a54b29a77bf4b</td>\n",
       "      <td>1371854247</td>\n",
       "      <td>42.771834</td>\n",
       "      <td>-90.158365</td>\n",
       "      <td>1</td>\n",
       "      <td>0.572102</td>\n",
       "    </tr>\n",
       "    <tr>\n",
       "      <th>3</th>\n",
       "      <td>1784</td>\n",
       "      <td>6/21/2020 22:38</td>\n",
       "      <td>4.005680e+15</td>\n",
       "      <td>fraud_Heathcote, Yost and Kertzmann</td>\n",
       "      <td>shopping_net</td>\n",
       "      <td>1077.69</td>\n",
       "      <td>William</td>\n",
       "      <td>Perry</td>\n",
       "      <td>M</td>\n",
       "      <td>458 Phillips Island Apt. 768</td>\n",
       "      <td>...</td>\n",
       "      <td>-90.9027</td>\n",
       "      <td>71335</td>\n",
       "      <td>Herbalist</td>\n",
       "      <td>5/31/1994</td>\n",
       "      <td>fe956c7e4a253c437c18918bf96f7b62</td>\n",
       "      <td>1371854335</td>\n",
       "      <td>31.204974</td>\n",
       "      <td>-90.261595</td>\n",
       "      <td>1</td>\n",
       "      <td>1.000000</td>\n",
       "    </tr>\n",
       "    <tr>\n",
       "      <th>4</th>\n",
       "      <td>1857</td>\n",
       "      <td>6/21/2020 23:02</td>\n",
       "      <td>3.560730e+15</td>\n",
       "      <td>fraud_Hermann and Sons</td>\n",
       "      <td>shopping_pos</td>\n",
       "      <td>842.65</td>\n",
       "      <td>Brooke</td>\n",
       "      <td>Smith</td>\n",
       "      <td>F</td>\n",
       "      <td>63542 Luna Brook Apt. 012</td>\n",
       "      <td>...</td>\n",
       "      <td>-102.7413</td>\n",
       "      <td>23</td>\n",
       "      <td>Cytogeneticist</td>\n",
       "      <td>9/15/1969</td>\n",
       "      <td>f6838c01f5d2262006e6b71d33ba7c6d</td>\n",
       "      <td>1371855736</td>\n",
       "      <td>31.315782</td>\n",
       "      <td>-102.736390</td>\n",
       "      <td>1</td>\n",
       "      <td>0.810834</td>\n",
       "    </tr>\n",
       "  </tbody>\n",
       "</table>\n",
       "<p>5 rows × 24 columns</p>\n",
       "</div>"
      ],
      "text/plain": [
       "   Unnamed: 0 trans_date_trans_time        cc_num  \\\n",
       "0        1685       6/21/2020 22:06  3.560730e+15   \n",
       "1        1767       6/21/2020 22:32  6.564460e+15   \n",
       "2        1781       6/21/2020 22:37  6.564460e+15   \n",
       "3        1784       6/21/2020 22:38  4.005680e+15   \n",
       "4        1857       6/21/2020 23:02  3.560730e+15   \n",
       "\n",
       "                              merchant        category      amt    first  \\\n",
       "0                 fraud_Hamill-D'Amore  health_fitness    24.84   Brooke   \n",
       "1    fraud_Rodriguez, Yost and Jenkins        misc_net   780.52  Douglas   \n",
       "2                     fraud_Nienow PLC   entertainment   620.33  Douglas   \n",
       "3  fraud_Heathcote, Yost and Kertzmann    shopping_net  1077.69  William   \n",
       "4               fraud_Hermann and Sons    shopping_pos   842.65   Brooke   \n",
       "\n",
       "     last gender                        street  ...      long city_pop  \\\n",
       "0   Smith      F     63542 Luna Brook Apt. 012  ... -102.7413       23   \n",
       "1  Willis      M    619 Jeremy Garden Apt. 681  ...  -90.3508     1306   \n",
       "2  Willis      M    619 Jeremy Garden Apt. 681  ...  -90.3508     1306   \n",
       "3   Perry      M  458 Phillips Island Apt. 768  ...  -90.9027    71335   \n",
       "4   Smith      F     63542 Luna Brook Apt. 012  ... -102.7413       23   \n",
       "\n",
       "                        job        dob                         trans_num  \\\n",
       "0            Cytogeneticist  9/15/1969  16bf2e46c54369a8eab2214649506425   \n",
       "1  Public relations officer  9/10/1958  ab4b379d2c0c9c667d46508d4e126d72   \n",
       "2  Public relations officer  9/10/1958  47a9987ae81d99f7832a54b29a77bf4b   \n",
       "3                 Herbalist  5/31/1994  fe956c7e4a253c437c18918bf96f7b62   \n",
       "4            Cytogeneticist  9/15/1969  f6838c01f5d2262006e6b71d33ba7c6d   \n",
       "\n",
       "    unix_time  merch_lat  merch_long is_fraud  risk_probability  \n",
       "0  1371852399  32.575873 -102.604290        1          0.581096  \n",
       "1  1371853942  42.461127  -91.147148        1          0.825668  \n",
       "2  1371854247  42.771834  -90.158365        1          0.572102  \n",
       "3  1371854335  31.204974  -90.261595        1          1.000000  \n",
       "4  1371855736  31.315782 -102.736390        1          0.810834  \n",
       "\n",
       "[5 rows x 24 columns]"
      ]
     },
     "execution_count": 3,
     "metadata": {},
     "output_type": "execute_result"
    }
   ],
   "source": [
    "data_Test=pd.read_csv(\"Test_dataset_with_probability.csv\")\n",
    "data_Test.head()\n"
   ]
  },
  {
   "cell_type": "code",
   "execution_count": 4,
   "id": "66acc739-697c-42b0-917e-0aa7e8cd4015",
   "metadata": {},
   "outputs": [
    {
     "data": {
      "text/plain": [
       "(2145, 24)"
      ]
     },
     "execution_count": 4,
     "metadata": {},
     "output_type": "execute_result"
    }
   ],
   "source": [
    "data_Test.shape"
   ]
  },
  {
   "cell_type": "code",
   "execution_count": 5,
   "id": "54ea05ca-cfcb-4be6-870e-adfb3b0664be",
   "metadata": {},
   "outputs": [
    {
     "data": {
      "text/plain": [
       "Unnamed: 0               0\n",
       "trans_date_trans_time    0\n",
       "cc_num                   0\n",
       "merchant                 0\n",
       "category                 0\n",
       "amt                      0\n",
       "first                    0\n",
       "last                     0\n",
       "gender                   0\n",
       "street                   0\n",
       "city                     0\n",
       "state                    0\n",
       "zip                      0\n",
       "lat                      0\n",
       "long                     0\n",
       "city_pop                 0\n",
       "job                      0\n",
       "dob                      0\n",
       "trans_num                0\n",
       "unix_time                0\n",
       "merch_lat                0\n",
       "merch_long               0\n",
       "is_fraud                 0\n",
       "risk_probability         0\n",
       "dtype: int64"
      ]
     },
     "execution_count": 5,
     "metadata": {},
     "output_type": "execute_result"
    }
   ],
   "source": [
    "data_Test.isnull().sum()"
   ]
  },
  {
   "cell_type": "code",
   "execution_count": 6,
   "id": "44db997f-5d3f-4990-81fe-84844473d3b0",
   "metadata": {},
   "outputs": [
    {
     "name": "stdout",
     "output_type": "stream",
     "text": [
      "<class 'pandas.core.frame.DataFrame'>\n",
      "RangeIndex: 2145 entries, 0 to 2144\n",
      "Data columns (total 24 columns):\n",
      " #   Column                 Non-Null Count  Dtype  \n",
      "---  ------                 --------------  -----  \n",
      " 0   Unnamed: 0             2145 non-null   int64  \n",
      " 1   trans_date_trans_time  2145 non-null   object \n",
      " 2   cc_num                 2145 non-null   float64\n",
      " 3   merchant               2145 non-null   object \n",
      " 4   category               2145 non-null   object \n",
      " 5   amt                    2145 non-null   float64\n",
      " 6   first                  2145 non-null   object \n",
      " 7   last                   2145 non-null   object \n",
      " 8   gender                 2145 non-null   object \n",
      " 9   street                 2145 non-null   object \n",
      " 10  city                   2145 non-null   object \n",
      " 11  state                  2145 non-null   object \n",
      " 12  zip                    2145 non-null   int64  \n",
      " 13  lat                    2145 non-null   float64\n",
      " 14  long                   2145 non-null   float64\n",
      " 15  city_pop               2145 non-null   int64  \n",
      " 16  job                    2145 non-null   object \n",
      " 17  dob                    2145 non-null   object \n",
      " 18  trans_num              2145 non-null   object \n",
      " 19  unix_time              2145 non-null   int64  \n",
      " 20  merch_lat              2145 non-null   float64\n",
      " 21  merch_long             2145 non-null   float64\n",
      " 22  is_fraud               2145 non-null   int64  \n",
      " 23  risk_probability       2145 non-null   float64\n",
      "dtypes: float64(7), int64(5), object(12)\n",
      "memory usage: 402.3+ KB\n"
     ]
    }
   ],
   "source": [
    "data_Test.info()"
   ]
  },
  {
   "cell_type": "code",
   "execution_count": 7,
   "id": "84f4d188-122b-4574-acb7-71a76b9b7f09",
   "metadata": {},
   "outputs": [
    {
     "data": {
      "text/html": [
       "<div>\n",
       "<style scoped>\n",
       "    .dataframe tbody tr th:only-of-type {\n",
       "        vertical-align: middle;\n",
       "    }\n",
       "\n",
       "    .dataframe tbody tr th {\n",
       "        vertical-align: top;\n",
       "    }\n",
       "\n",
       "    .dataframe thead th {\n",
       "        text-align: right;\n",
       "    }\n",
       "</style>\n",
       "<table border=\"1\" class=\"dataframe\">\n",
       "  <thead>\n",
       "    <tr style=\"text-align: right;\">\n",
       "      <th></th>\n",
       "      <th>Unnamed: 0</th>\n",
       "      <th>trans_date_trans_time</th>\n",
       "      <th>cc_num</th>\n",
       "      <th>merchant</th>\n",
       "      <th>category</th>\n",
       "      <th>amt</th>\n",
       "      <th>first</th>\n",
       "      <th>last</th>\n",
       "      <th>gender</th>\n",
       "      <th>street</th>\n",
       "      <th>...</th>\n",
       "      <th>long</th>\n",
       "      <th>city_pop</th>\n",
       "      <th>job</th>\n",
       "      <th>dob</th>\n",
       "      <th>trans_num</th>\n",
       "      <th>unix_time</th>\n",
       "      <th>merch_lat</th>\n",
       "      <th>merch_long</th>\n",
       "      <th>is_fraud</th>\n",
       "      <th>risk_probability</th>\n",
       "    </tr>\n",
       "  </thead>\n",
       "  <tbody>\n",
       "    <tr>\n",
       "      <th>0</th>\n",
       "      <td>1685</td>\n",
       "      <td>6/21/2020 22:06</td>\n",
       "      <td>3.560730e+15</td>\n",
       "      <td>fraud_Hamill-D'Amore</td>\n",
       "      <td>health_fitness</td>\n",
       "      <td>24.84</td>\n",
       "      <td>Brooke</td>\n",
       "      <td>Smith</td>\n",
       "      <td>F</td>\n",
       "      <td>63542 Luna Brook Apt. 012</td>\n",
       "      <td>...</td>\n",
       "      <td>-102.7413</td>\n",
       "      <td>23</td>\n",
       "      <td>Cytogeneticist</td>\n",
       "      <td>9/15/1969</td>\n",
       "      <td>16bf2e46c54369a8eab2214649506425</td>\n",
       "      <td>1371852399</td>\n",
       "      <td>32.575873</td>\n",
       "      <td>-102.604290</td>\n",
       "      <td>1</td>\n",
       "      <td>0.581096</td>\n",
       "    </tr>\n",
       "    <tr>\n",
       "      <th>1</th>\n",
       "      <td>1767</td>\n",
       "      <td>6/21/2020 22:32</td>\n",
       "      <td>6.564460e+15</td>\n",
       "      <td>fraud_Rodriguez, Yost and Jenkins</td>\n",
       "      <td>misc_net</td>\n",
       "      <td>780.52</td>\n",
       "      <td>Douglas</td>\n",
       "      <td>Willis</td>\n",
       "      <td>M</td>\n",
       "      <td>619 Jeremy Garden Apt. 681</td>\n",
       "      <td>...</td>\n",
       "      <td>-90.3508</td>\n",
       "      <td>1306</td>\n",
       "      <td>Public relations officer</td>\n",
       "      <td>9/10/1958</td>\n",
       "      <td>ab4b379d2c0c9c667d46508d4e126d72</td>\n",
       "      <td>1371853942</td>\n",
       "      <td>42.461127</td>\n",
       "      <td>-91.147148</td>\n",
       "      <td>1</td>\n",
       "      <td>0.825668</td>\n",
       "    </tr>\n",
       "  </tbody>\n",
       "</table>\n",
       "<p>2 rows × 24 columns</p>\n",
       "</div>"
      ],
      "text/plain": [
       "   Unnamed: 0 trans_date_trans_time        cc_num  \\\n",
       "0        1685       6/21/2020 22:06  3.560730e+15   \n",
       "1        1767       6/21/2020 22:32  6.564460e+15   \n",
       "\n",
       "                            merchant        category     amt    first    last  \\\n",
       "0               fraud_Hamill-D'Amore  health_fitness   24.84   Brooke   Smith   \n",
       "1  fraud_Rodriguez, Yost and Jenkins        misc_net  780.52  Douglas  Willis   \n",
       "\n",
       "  gender                      street  ...      long city_pop  \\\n",
       "0      F   63542 Luna Brook Apt. 012  ... -102.7413       23   \n",
       "1      M  619 Jeremy Garden Apt. 681  ...  -90.3508     1306   \n",
       "\n",
       "                        job        dob                         trans_num  \\\n",
       "0            Cytogeneticist  9/15/1969  16bf2e46c54369a8eab2214649506425   \n",
       "1  Public relations officer  9/10/1958  ab4b379d2c0c9c667d46508d4e126d72   \n",
       "\n",
       "    unix_time  merch_lat  merch_long is_fraud  risk_probability  \n",
       "0  1371852399  32.575873 -102.604290        1          0.581096  \n",
       "1  1371853942  42.461127  -91.147148        1          0.825668  \n",
       "\n",
       "[2 rows x 24 columns]"
      ]
     },
     "execution_count": 7,
     "metadata": {},
     "output_type": "execute_result"
    }
   ],
   "source": [
    "data_Test.head(2)"
   ]
  },
  {
   "cell_type": "code",
   "execution_count": 8,
   "id": "af304367-6b50-4d7c-818b-15859fc2f772",
   "metadata": {},
   "outputs": [
    {
     "data": {
      "text/plain": [
       "2108"
      ]
     },
     "execution_count": 8,
     "metadata": {},
     "output_type": "execute_result"
    }
   ],
   "source": [
    "len(data_Test['trans_date_trans_time'].value_counts())"
   ]
  },
  {
   "cell_type": "code",
   "execution_count": 9,
   "id": "e0a7f5b5-37ad-4b2d-9b9c-a166160d1b95",
   "metadata": {},
   "outputs": [
    {
     "data": {
      "text/plain": [
       "merchant\n",
       "fraud_Romaguera, Cruickshank and Greenholt    18\n",
       "fraud_Lemke-Gutmann                           18\n",
       "fraud_Mosciski, Ziemann and Farrell           18\n",
       "fraud_Schultz, Simonis and Little             17\n",
       "fraud_Heathcote, Yost and Kertzmann           17\n",
       "                                              ..\n",
       "fraud_Dickinson-Rempel                         1\n",
       "fraud_Lind-Buckridge                           1\n",
       "fraud_Ernser-Feest                             1\n",
       "fraud_Dicki Ltd                                1\n",
       "fraud_Schulist Ltd                             1\n",
       "Name: count, Length: 557, dtype: int64"
      ]
     },
     "execution_count": 9,
     "metadata": {},
     "output_type": "execute_result"
    }
   ],
   "source": [
    "data_Test['merchant'].value_counts()"
   ]
  },
  {
   "cell_type": "code",
   "execution_count": 10,
   "id": "07dcfdcd-69b4-4cd0-a833-ee59bd32d18b",
   "metadata": {},
   "outputs": [
    {
     "data": {
      "text/plain": [
       "557"
      ]
     },
     "execution_count": 10,
     "metadata": {},
     "output_type": "execute_result"
    }
   ],
   "source": [
    "len(data_Test['merchant'].value_counts())"
   ]
  },
  {
   "cell_type": "code",
   "execution_count": 11,
   "id": "ce502117-4184-40ff-a5e9-8cb6947b7359",
   "metadata": {},
   "outputs": [
    {
     "data": {
      "text/plain": [
       "category\n",
       "shopping_net      506\n",
       "grocery_pos       485\n",
       "misc_net          267\n",
       "shopping_pos      213\n",
       "gas_transport     154\n",
       "misc_pos           72\n",
       "personal_care      70\n",
       "home               67\n",
       "kids_pets          65\n",
       "entertainment      59\n",
       "food_dining        54\n",
       "health_fitness     52\n",
       "grocery_net        41\n",
       "travel             40\n",
       "Name: count, dtype: int64"
      ]
     },
     "execution_count": 11,
     "metadata": {},
     "output_type": "execute_result"
    }
   ],
   "source": [
    "data_Test['category'].value_counts()"
   ]
  },
  {
   "cell_type": "code",
   "execution_count": 12,
   "id": "94bd3539-0fe5-4489-a9be-1e94d29bea94",
   "metadata": {},
   "outputs": [
    {
     "data": {
      "text/plain": [
       "14"
      ]
     },
     "execution_count": 12,
     "metadata": {},
     "output_type": "execute_result"
    }
   ],
   "source": [
    "len(data_Test['category'].value_counts())"
   ]
  },
  {
   "cell_type": "code",
   "execution_count": 13,
   "id": "23449c57-4098-420b-990b-7de611127e92",
   "metadata": {},
   "outputs": [
    {
     "data": {
      "text/plain": [
       "first\n",
       "Christopher    85\n",
       "Mary           54\n",
       "David          50\n",
       "Lisa           46\n",
       "Stephanie      44\n",
       "               ..\n",
       "Ellen           3\n",
       "Peggy           3\n",
       "Christine       3\n",
       "Erin            2\n",
       "Janet           2\n",
       "Name: count, Length: 143, dtype: int64"
      ]
     },
     "execution_count": 13,
     "metadata": {},
     "output_type": "execute_result"
    }
   ],
   "source": [
    "data_Test['first'].value_counts()"
   ]
  },
  {
   "cell_type": "code",
   "execution_count": 14,
   "id": "c15597a5-8c17-42e6-88ee-51bf1cd151dd",
   "metadata": {},
   "outputs": [
    {
     "data": {
      "text/plain": [
       "143"
      ]
     },
     "execution_count": 14,
     "metadata": {},
     "output_type": "execute_result"
    }
   ],
   "source": [
    "len(data_Test['first'].value_counts())"
   ]
  },
  {
   "cell_type": "code",
   "execution_count": 15,
   "id": "b0aa368d-bec5-4901-a564-be810c80be1c",
   "metadata": {},
   "outputs": [
    {
     "data": {
      "text/plain": [
       "last\n",
       "Williams     71\n",
       "Jones        38\n",
       "Johnson      36\n",
       "Lowe         32\n",
       "Bell         31\n",
       "             ..\n",
       "Leblanc       3\n",
       "Berry         3\n",
       "Willis        3\n",
       "Chavez        2\n",
       "Carpenter     2\n",
       "Name: count, Length: 173, dtype: int64"
      ]
     },
     "execution_count": 15,
     "metadata": {},
     "output_type": "execute_result"
    }
   ],
   "source": [
    "data_Test['last'].value_counts()"
   ]
  },
  {
   "cell_type": "code",
   "execution_count": 16,
   "id": "3114136f-4c52-4f03-a207-2c693dc91798",
   "metadata": {},
   "outputs": [
    {
     "data": {
      "text/plain": [
       "173"
      ]
     },
     "execution_count": 16,
     "metadata": {},
     "output_type": "execute_result"
    }
   ],
   "source": [
    "len(data_Test['last'].value_counts())"
   ]
  },
  {
   "cell_type": "code",
   "execution_count": 17,
   "id": "1cea242e-3fa8-4587-96dc-36b413a5c714",
   "metadata": {},
   "outputs": [
    {
     "data": {
      "text/plain": [
       "gender\n",
       "F    1164\n",
       "M     981\n",
       "Name: count, dtype: int64"
      ]
     },
     "execution_count": 17,
     "metadata": {},
     "output_type": "execute_result"
    }
   ],
   "source": [
    "data_Test['gender'].value_counts()"
   ]
  },
  {
   "cell_type": "code",
   "execution_count": 18,
   "id": "5608a804-e483-4003-9de1-9add53f47868",
   "metadata": {},
   "outputs": [
    {
     "data": {
      "text/plain": [
       "2"
      ]
     },
     "execution_count": 18,
     "metadata": {},
     "output_type": "execute_result"
    }
   ],
   "source": [
    "len(data_Test['gender'].value_counts())"
   ]
  },
  {
   "cell_type": "code",
   "execution_count": 19,
   "id": "dab759c2-a529-4943-8132-174becb98d74",
   "metadata": {},
   "outputs": [
    {
     "data": {
      "text/plain": [
       "street\n",
       "00315 Ashley Valleys             19\n",
       "444 Robert Mews                  18\n",
       "4664 Sanchez Common Suite 930    16\n",
       "9853 Flynn Hollow Apt. 602       16\n",
       "358 Pruitt Square                16\n",
       "                                 ..\n",
       "7337 Browning Falls Suite 027     3\n",
       "3379 Williams Common              2\n",
       "67210 Lori Creek                  2\n",
       "9870 Collins Flat                 2\n",
       "63542 Luna Brook Apt. 012         2\n",
       "Name: count, Length: 218, dtype: int64"
      ]
     },
     "execution_count": 19,
     "metadata": {},
     "output_type": "execute_result"
    }
   ],
   "source": [
    "data_Test['street'].value_counts()"
   ]
  },
  {
   "cell_type": "code",
   "execution_count": 20,
   "id": "350d03ea-260c-47a0-af08-c4e0b33998fa",
   "metadata": {},
   "outputs": [
    {
     "data": {
      "text/plain": [
       "218"
      ]
     },
     "execution_count": 20,
     "metadata": {},
     "output_type": "execute_result"
    }
   ],
   "source": [
    "len(data_Test['street'].value_counts())"
   ]
  },
  {
   "cell_type": "code",
   "execution_count": 21,
   "id": "3fb15f8a-4dd5-4c31-9f7d-14a18977c691",
   "metadata": {},
   "outputs": [
    {
     "data": {
      "text/plain": [
       "city\n",
       "Camden          27\n",
       "Birmingham      25\n",
       "Burrton         19\n",
       "Clarks Mills    18\n",
       "Bradley         16\n",
       "                ..\n",
       "Deltona          3\n",
       "Littleton        2\n",
       "Sherman          2\n",
       "Laramie          2\n",
       "Notrees          2\n",
       "Name: count, Length: 215, dtype: int64"
      ]
     },
     "execution_count": 21,
     "metadata": {},
     "output_type": "execute_result"
    }
   ],
   "source": [
    "data_Test['city'].value_counts()"
   ]
  },
  {
   "cell_type": "code",
   "execution_count": 22,
   "id": "4988ae70-6d04-423e-afdb-ebe3db7daecd",
   "metadata": {},
   "outputs": [
    {
     "data": {
      "text/plain": [
       "215"
      ]
     },
     "execution_count": 22,
     "metadata": {},
     "output_type": "execute_result"
    }
   ],
   "source": [
    "len(data_Test['city'].value_counts())"
   ]
  },
  {
   "cell_type": "code",
   "execution_count": 23,
   "id": "72af4c5b-0372-49a5-b468-560b65da2f8b",
   "metadata": {},
   "outputs": [
    {
     "data": {
      "text/plain": [
       "state\n",
       "NY    175\n",
       "PA    114\n",
       "TX    113\n",
       "CA     76\n",
       "IL     76\n",
       "VA     75\n",
       "IN     75\n",
       "MN     73\n",
       "MO     71\n",
       "IA     69\n",
       "KY     67\n",
       "WI     65\n",
       "AL     63\n",
       "MI     61\n",
       "GA     58\n",
       "OK     57\n",
       "MS     54\n",
       "FL     53\n",
       "OR     48\n",
       "NC     46\n",
       "MD     46\n",
       "NJ     43\n",
       "SC     43\n",
       "CT     40\n",
       "NM     39\n",
       "OH     39\n",
       "MT     37\n",
       "KS     37\n",
       "NE     36\n",
       "AR     34\n",
       "WA     30\n",
       "AZ     27\n",
       "ND     27\n",
       "LA     22\n",
       "ID     22\n",
       "NH     20\n",
       "TN     19\n",
       "MA     18\n",
       "SD     18\n",
       "ME     15\n",
       "AK     14\n",
       "DC     10\n",
       "WY      9\n",
       "HI      9\n",
       "CO      2\n",
       "Name: count, dtype: int64"
      ]
     },
     "execution_count": 23,
     "metadata": {},
     "output_type": "execute_result"
    }
   ],
   "source": [
    "data_Test['state'].value_counts()"
   ]
  },
  {
   "cell_type": "code",
   "execution_count": 24,
   "id": "600312cd-e1c5-4105-82e9-ddc80c0123bc",
   "metadata": {},
   "outputs": [
    {
     "data": {
      "text/plain": [
       "45"
      ]
     },
     "execution_count": 24,
     "metadata": {},
     "output_type": "execute_result"
    }
   ],
   "source": [
    "len(data_Test['state'].value_counts())"
   ]
  },
  {
   "cell_type": "code",
   "execution_count": 25,
   "id": "e7386920-93ae-4d27-80ac-f07c190a264a",
   "metadata": {},
   "outputs": [
    {
     "data": {
      "text/plain": [
       "zip\n",
       "67020    19\n",
       "16114    18\n",
       "29819    16\n",
       "58275    16\n",
       "32565    16\n",
       "         ..\n",
       "31605     3\n",
       "80120     2\n",
       "75092     2\n",
       "82072     2\n",
       "79759     2\n",
       "Name: count, Length: 218, dtype: int64"
      ]
     },
     "execution_count": 25,
     "metadata": {},
     "output_type": "execute_result"
    }
   ],
   "source": [
    "data_Test['zip'].value_counts()"
   ]
  },
  {
   "cell_type": "code",
   "execution_count": 26,
   "id": "d344d957-c4d4-4a7d-a906-9cacb4f4bf6f",
   "metadata": {},
   "outputs": [
    {
     "data": {
      "text/plain": [
       "218"
      ]
     },
     "execution_count": 26,
     "metadata": {},
     "output_type": "execute_result"
    }
   ],
   "source": [
    "len(data_Test['zip'].value_counts())"
   ]
  },
  {
   "cell_type": "code",
   "execution_count": 27,
   "id": "e51c38a2-ec15-4d4c-b7fa-aec064ec347a",
   "metadata": {},
   "outputs": [
    {
     "data": {
      "text/plain": [
       "job\n",
       "Science writer                 30\n",
       "Licensed conveyancer           29\n",
       "Systems developer              29\n",
       "Engineer, biomedical           28\n",
       "Colour technologist            27\n",
       "                               ..\n",
       "Video editor                    4\n",
       "Public relations officer        3\n",
       "Clinical research associate     3\n",
       "Commercial horticulturist       3\n",
       "Pilot, airline                  2\n",
       "Name: count, Length: 177, dtype: int64"
      ]
     },
     "execution_count": 27,
     "metadata": {},
     "output_type": "execute_result"
    }
   ],
   "source": [
    "data_Test['job'].value_counts()"
   ]
  },
  {
   "cell_type": "code",
   "execution_count": 28,
   "id": "bf9ff97b-ec67-4099-8c24-c01a994cdaee",
   "metadata": {},
   "outputs": [
    {
     "data": {
      "text/plain": [
       "177"
      ]
     },
     "execution_count": 28,
     "metadata": {},
     "output_type": "execute_result"
    }
   ],
   "source": [
    "len(data_Test['job'].value_counts())"
   ]
  },
  {
   "cell_type": "code",
   "execution_count": 29,
   "id": "718ea566-5e47-412c-ad85-e295abdd68c5",
   "metadata": {},
   "outputs": [
    {
     "data": {
      "text/plain": [
       "dob\n",
       "11/18/1997    19\n",
       "9/22/1997     18\n",
       "6/3/1984      16\n",
       "11/12/1994    16\n",
       "11/5/1994     16\n",
       "              ..\n",
       "9/8/1987       3\n",
       "7/31/1975      2\n",
       "9/11/1970      2\n",
       "9/2/1988       2\n",
       "9/15/1969      2\n",
       "Name: count, Length: 218, dtype: int64"
      ]
     },
     "execution_count": 29,
     "metadata": {},
     "output_type": "execute_result"
    }
   ],
   "source": [
    "data_Test['dob'].value_counts()"
   ]
  },
  {
   "cell_type": "code",
   "execution_count": 30,
   "id": "2fbb0415-ecea-4f7d-9c17-ac45173b976f",
   "metadata": {},
   "outputs": [
    {
     "data": {
      "text/plain": [
       "218"
      ]
     },
     "execution_count": 30,
     "metadata": {},
     "output_type": "execute_result"
    }
   ],
   "source": [
    "len(data_Test['dob'].value_counts())"
   ]
  },
  {
   "cell_type": "code",
   "execution_count": 31,
   "id": "d7888a36-ae46-4414-8bf0-a0f83ddfe43f",
   "metadata": {},
   "outputs": [
    {
     "data": {
      "text/plain": [
       "trans_num\n",
       "16bf2e46c54369a8eab2214649506425    1\n",
       "603e91e958bb78fc55c5df6d7b817c9d    1\n",
       "f04121b6d75bff970c86fafd9f3903d1    1\n",
       "7814e756c3fc0af4eb76918fd6acd763    1\n",
       "c948881c8e8ba8369e8c180160c25cf4    1\n",
       "                                   ..\n",
       "3a19fe44bfdf260f630d0ad080015270    1\n",
       "b61d49087875e4de277b751bb8eb36cf    1\n",
       "8bc785f62ecd2c92858060551babad14    1\n",
       "d2fa92fcb98a67a166d60c47e5173cc6    1\n",
       "44292cbc51e37dc018ee6a988a4bc426    1\n",
       "Name: count, Length: 2145, dtype: int64"
      ]
     },
     "execution_count": 31,
     "metadata": {},
     "output_type": "execute_result"
    }
   ],
   "source": [
    "data_Test['trans_num'].value_counts()"
   ]
  },
  {
   "cell_type": "code",
   "execution_count": 32,
   "id": "7fcab9f3-3c97-4b53-b9f0-0a7a97c2dbfc",
   "metadata": {},
   "outputs": [
    {
     "data": {
      "text/plain": [
       "2145"
      ]
     },
     "execution_count": 32,
     "metadata": {},
     "output_type": "execute_result"
    }
   ],
   "source": [
    "len(data_Test['trans_num'].value_counts())"
   ]
  },
  {
   "cell_type": "code",
   "execution_count": 33,
   "id": "272d8581-f25c-42cd-8c37-fe919cafa60f",
   "metadata": {},
   "outputs": [],
   "source": [
    "data_Test['trans_date_trans_time']=pd.to_datetime(data_Test['trans_date_trans_time'],format='%m/%d/%Y %H:%M')\n",
    "data_Test['hour']=data_Test['trans_date_trans_time'].dt.hour"
   ]
  },
  {
   "cell_type": "code",
   "execution_count": 34,
   "id": "e5fe9040-11ec-4a0d-a305-ae2f7d59cdd0",
   "metadata": {},
   "outputs": [
    {
     "data": {
      "text/plain": [
       "0       22\n",
       "1       22\n",
       "2       22\n",
       "3       22\n",
       "4       23\n",
       "        ..\n",
       "2140    22\n",
       "2141    22\n",
       "2142    22\n",
       "2143    23\n",
       "2144    23\n",
       "Name: hour, Length: 2145, dtype: int32"
      ]
     },
     "execution_count": 34,
     "metadata": {},
     "output_type": "execute_result"
    }
   ],
   "source": [
    "data_Test['hour']"
   ]
  },
  {
   "cell_type": "code",
   "execution_count": 35,
   "id": "e2154a19-c9fe-4e6b-aedd-d104e4f9b81d",
   "metadata": {},
   "outputs": [],
   "source": [
    "data_Test=data_Test.drop(columns=['Unnamed: 0','cc_num','is_fraud','unix_time','trans_date_trans_time','first','last','merchant', 'gender','street','city','state','zip','job','dob','trans_num'])"
   ]
  },
  {
   "cell_type": "code",
   "execution_count": 36,
   "id": "74e7fdb8-ecbc-489f-a2f5-28a84b03143b",
   "metadata": {},
   "outputs": [
    {
     "data": {
      "text/html": [
       "<div>\n",
       "<style scoped>\n",
       "    .dataframe tbody tr th:only-of-type {\n",
       "        vertical-align: middle;\n",
       "    }\n",
       "\n",
       "    .dataframe tbody tr th {\n",
       "        vertical-align: top;\n",
       "    }\n",
       "\n",
       "    .dataframe thead th {\n",
       "        text-align: right;\n",
       "    }\n",
       "</style>\n",
       "<table border=\"1\" class=\"dataframe\">\n",
       "  <thead>\n",
       "    <tr style=\"text-align: right;\">\n",
       "      <th></th>\n",
       "      <th>category</th>\n",
       "      <th>amt</th>\n",
       "      <th>lat</th>\n",
       "      <th>long</th>\n",
       "      <th>city_pop</th>\n",
       "      <th>merch_lat</th>\n",
       "      <th>merch_long</th>\n",
       "      <th>risk_probability</th>\n",
       "      <th>hour</th>\n",
       "    </tr>\n",
       "  </thead>\n",
       "  <tbody>\n",
       "    <tr>\n",
       "      <th>0</th>\n",
       "      <td>health_fitness</td>\n",
       "      <td>24.84</td>\n",
       "      <td>31.8599</td>\n",
       "      <td>-102.7413</td>\n",
       "      <td>23</td>\n",
       "      <td>32.575873</td>\n",
       "      <td>-102.604290</td>\n",
       "      <td>0.581096</td>\n",
       "      <td>22</td>\n",
       "    </tr>\n",
       "    <tr>\n",
       "      <th>1</th>\n",
       "      <td>misc_net</td>\n",
       "      <td>780.52</td>\n",
       "      <td>42.5545</td>\n",
       "      <td>-90.3508</td>\n",
       "      <td>1306</td>\n",
       "      <td>42.461127</td>\n",
       "      <td>-91.147148</td>\n",
       "      <td>0.825668</td>\n",
       "      <td>22</td>\n",
       "    </tr>\n",
       "  </tbody>\n",
       "</table>\n",
       "</div>"
      ],
      "text/plain": [
       "         category     amt      lat      long  city_pop  merch_lat  merch_long  \\\n",
       "0  health_fitness   24.84  31.8599 -102.7413        23  32.575873 -102.604290   \n",
       "1        misc_net  780.52  42.5545  -90.3508      1306  42.461127  -91.147148   \n",
       "\n",
       "   risk_probability  hour  \n",
       "0          0.581096    22  \n",
       "1          0.825668    22  "
      ]
     },
     "execution_count": 36,
     "metadata": {},
     "output_type": "execute_result"
    }
   ],
   "source": [
    "data_Test.head(2)"
   ]
  },
  {
   "cell_type": "code",
   "execution_count": 37,
   "id": "1dc88c27-0e69-40a5-8e30-734dedc77e92",
   "metadata": {},
   "outputs": [
    {
     "name": "stdout",
     "output_type": "stream",
     "text": [
      "category             object\n",
      "amt                 float64\n",
      "lat                 float64\n",
      "long                float64\n",
      "city_pop              int64\n",
      "merch_lat           float64\n",
      "merch_long          float64\n",
      "risk_probability    float64\n",
      "hour                  int32\n",
      "dtype: object\n"
     ]
    }
   ],
   "source": [
    "print(data_Test.dtypes)\n"
   ]
  },
  {
   "cell_type": "code",
   "execution_count": 38,
   "id": "7929667f-4b76-4f6c-8b57-e9a9bd79ae3b",
   "metadata": {},
   "outputs": [],
   "source": [
    "# Function to calculate distance between customer and merchant\n",
    "def calculate_distance(row):\n",
    "    customer_location = (row['lat'], row['long'])\n",
    "    merchant_location = (row['merch_lat'], row['merch_long'])\n",
    "    return geodesic(customer_location, merchant_location).kilometers"
   ]
  },
  {
   "cell_type": "code",
   "execution_count": 39,
   "id": "3ce8b532-73f2-45ff-94d6-0536c1ec1f9a",
   "metadata": {},
   "outputs": [],
   "source": [
    "# Apply the function to the DataFrame\n",
    "data_Test[\"distance_km\"] = data_Test.apply(calculate_distance, axis=1)"
   ]
  },
  {
   "cell_type": "code",
   "execution_count": 40,
   "id": "d0d5254f-bdd8-4ec0-9bb2-e535f5c555a5",
   "metadata": {},
   "outputs": [],
   "source": [
    "data_Test=data_Test.drop(columns=['lat','long','merch_lat','merch_long'])"
   ]
  },
  {
   "cell_type": "code",
   "execution_count": 41,
   "id": "3776e8dc-8644-481d-a7f6-6422187dc21d",
   "metadata": {},
   "outputs": [
    {
     "name": "stdout",
     "output_type": "stream",
     "text": [
      "<class 'pandas.core.frame.DataFrame'>\n",
      "RangeIndex: 2145 entries, 0 to 2144\n",
      "Data columns (total 6 columns):\n",
      " #   Column            Non-Null Count  Dtype  \n",
      "---  ------            --------------  -----  \n",
      " 0   category          2145 non-null   object \n",
      " 1   amt               2145 non-null   float64\n",
      " 2   city_pop          2145 non-null   int64  \n",
      " 3   risk_probability  2145 non-null   float64\n",
      " 4   hour              2145 non-null   int32  \n",
      " 5   distance_km       2145 non-null   float64\n",
      "dtypes: float64(3), int32(1), int64(1), object(1)\n",
      "memory usage: 92.3+ KB\n"
     ]
    }
   ],
   "source": [
    "data_Test.info()"
   ]
  },
  {
   "cell_type": "code",
   "execution_count": 42,
   "id": "8f30aade-e783-44b3-a519-f93abb2093d4",
   "metadata": {
    "scrolled": true
   },
   "outputs": [
    {
     "name": "stdout",
     "output_type": "stream",
     "text": [
      "amt                 0.775172\n",
      "city_pop            0.047826\n",
      "risk_probability    1.000000\n",
      "hour                0.171179\n",
      "distance_km         0.360341\n",
      "Name: risk_probability, dtype: float64\n"
     ]
    }
   ],
   "source": [
    "correlation_matrix = data_Test.select_dtypes(include=['number']).corr()\n",
    "print(correlation_matrix['risk_probability'])\n"
   ]
  },
  {
   "cell_type": "code",
   "execution_count": 43,
   "id": "ff9e6147-f689-4009-9982-510bfc435024",
   "metadata": {
    "scrolled": true
   },
   "outputs": [],
   "source": [
    "# One-hot encode 'category' and 'gender', keeping only 0 and 1\n",
    "data_Test= pd.get_dummies(data_Test, columns=['category'], dtype=int)\n",
    "\n"
   ]
  },
  {
   "cell_type": "code",
   "execution_count": 44,
   "id": "659ea6b7-0e23-4d30-a855-fa56ceedffcc",
   "metadata": {},
   "outputs": [
    {
     "name": "stdout",
     "output_type": "stream",
     "text": [
      "       amt  city_pop  risk_probability  hour  distance_km  \\\n",
      "0    24.84        23          0.581096    22    80.438371   \n",
      "1   780.52      1306          0.825668    22    66.267361   \n",
      "2   620.33      1306          0.572102    22    28.840604   \n",
      "3  1077.69     71335          1.000000    22   102.964988   \n",
      "4   842.65        23          0.810834    23    60.333400   \n",
      "\n",
      "   category_entertainment  category_food_dining  category_gas_transport  \\\n",
      "0                       0                     0                       0   \n",
      "1                       0                     0                       0   \n",
      "2                       1                     0                       0   \n",
      "3                       0                     0                       0   \n",
      "4                       0                     0                       0   \n",
      "\n",
      "   category_grocery_net  category_grocery_pos  category_health_fitness  \\\n",
      "0                     0                     0                        1   \n",
      "1                     0                     0                        0   \n",
      "2                     0                     0                        0   \n",
      "3                     0                     0                        0   \n",
      "4                     0                     0                        0   \n",
      "\n",
      "   category_home  category_kids_pets  category_misc_net  category_misc_pos  \\\n",
      "0              0                   0                  0                  0   \n",
      "1              0                   0                  1                  0   \n",
      "2              0                   0                  0                  0   \n",
      "3              0                   0                  0                  0   \n",
      "4              0                   0                  0                  0   \n",
      "\n",
      "   category_personal_care  category_shopping_net  category_shopping_pos  \\\n",
      "0                       0                      0                      0   \n",
      "1                       0                      0                      0   \n",
      "2                       0                      0                      0   \n",
      "3                       0                      1                      0   \n",
      "4                       0                      0                      1   \n",
      "\n",
      "   category_travel  \n",
      "0                0  \n",
      "1                0  \n",
      "2                0  \n",
      "3                0  \n",
      "4                0  \n"
     ]
    }
   ],
   "source": [
    "# Display the resulting DataFrame\n",
    "print(data_Test.head())"
   ]
  },
  {
   "cell_type": "code",
   "execution_count": 45,
   "id": "227672d4-42a4-4d08-8177-83331d212a89",
   "metadata": {},
   "outputs": [
    {
     "data": {
      "text/html": [
       "<div>\n",
       "<style scoped>\n",
       "    .dataframe tbody tr th:only-of-type {\n",
       "        vertical-align: middle;\n",
       "    }\n",
       "\n",
       "    .dataframe tbody tr th {\n",
       "        vertical-align: top;\n",
       "    }\n",
       "\n",
       "    .dataframe thead th {\n",
       "        text-align: right;\n",
       "    }\n",
       "</style>\n",
       "<table border=\"1\" class=\"dataframe\">\n",
       "  <thead>\n",
       "    <tr style=\"text-align: right;\">\n",
       "      <th></th>\n",
       "      <th>amt</th>\n",
       "      <th>city_pop</th>\n",
       "      <th>risk_probability</th>\n",
       "      <th>hour</th>\n",
       "      <th>distance_km</th>\n",
       "      <th>category_entertainment</th>\n",
       "      <th>category_food_dining</th>\n",
       "      <th>category_gas_transport</th>\n",
       "      <th>category_grocery_net</th>\n",
       "      <th>category_grocery_pos</th>\n",
       "      <th>category_health_fitness</th>\n",
       "      <th>category_home</th>\n",
       "      <th>category_kids_pets</th>\n",
       "      <th>category_misc_net</th>\n",
       "      <th>category_misc_pos</th>\n",
       "      <th>category_personal_care</th>\n",
       "      <th>category_shopping_net</th>\n",
       "      <th>category_shopping_pos</th>\n",
       "      <th>category_travel</th>\n",
       "    </tr>\n",
       "  </thead>\n",
       "  <tbody>\n",
       "    <tr>\n",
       "      <th>0</th>\n",
       "      <td>24.84</td>\n",
       "      <td>23</td>\n",
       "      <td>0.581096</td>\n",
       "      <td>22</td>\n",
       "      <td>80.438371</td>\n",
       "      <td>0</td>\n",
       "      <td>0</td>\n",
       "      <td>0</td>\n",
       "      <td>0</td>\n",
       "      <td>0</td>\n",
       "      <td>1</td>\n",
       "      <td>0</td>\n",
       "      <td>0</td>\n",
       "      <td>0</td>\n",
       "      <td>0</td>\n",
       "      <td>0</td>\n",
       "      <td>0</td>\n",
       "      <td>0</td>\n",
       "      <td>0</td>\n",
       "    </tr>\n",
       "    <tr>\n",
       "      <th>1</th>\n",
       "      <td>780.52</td>\n",
       "      <td>1306</td>\n",
       "      <td>0.825668</td>\n",
       "      <td>22</td>\n",
       "      <td>66.267361</td>\n",
       "      <td>0</td>\n",
       "      <td>0</td>\n",
       "      <td>0</td>\n",
       "      <td>0</td>\n",
       "      <td>0</td>\n",
       "      <td>0</td>\n",
       "      <td>0</td>\n",
       "      <td>0</td>\n",
       "      <td>1</td>\n",
       "      <td>0</td>\n",
       "      <td>0</td>\n",
       "      <td>0</td>\n",
       "      <td>0</td>\n",
       "      <td>0</td>\n",
       "    </tr>\n",
       "  </tbody>\n",
       "</table>\n",
       "</div>"
      ],
      "text/plain": [
       "      amt  city_pop  risk_probability  hour  distance_km  \\\n",
       "0   24.84        23          0.581096    22    80.438371   \n",
       "1  780.52      1306          0.825668    22    66.267361   \n",
       "\n",
       "   category_entertainment  category_food_dining  category_gas_transport  \\\n",
       "0                       0                     0                       0   \n",
       "1                       0                     0                       0   \n",
       "\n",
       "   category_grocery_net  category_grocery_pos  category_health_fitness  \\\n",
       "0                     0                     0                        1   \n",
       "1                     0                     0                        0   \n",
       "\n",
       "   category_home  category_kids_pets  category_misc_net  category_misc_pos  \\\n",
       "0              0                   0                  0                  0   \n",
       "1              0                   0                  1                  0   \n",
       "\n",
       "   category_personal_care  category_shopping_net  category_shopping_pos  \\\n",
       "0                       0                      0                      0   \n",
       "1                       0                      0                      0   \n",
       "\n",
       "   category_travel  \n",
       "0                0  \n",
       "1                0  "
      ]
     },
     "execution_count": 45,
     "metadata": {},
     "output_type": "execute_result"
    }
   ],
   "source": [
    "data_Test.head(2)"
   ]
  },
  {
   "cell_type": "code",
   "execution_count": 46,
   "id": "c65acf29-2ef8-44a9-a884-fc082ee868d1",
   "metadata": {},
   "outputs": [
    {
     "name": "stdout",
     "output_type": "stream",
     "text": [
      "<class 'pandas.core.frame.DataFrame'>\n",
      "RangeIndex: 2145 entries, 0 to 2144\n",
      "Data columns (total 19 columns):\n",
      " #   Column                   Non-Null Count  Dtype  \n",
      "---  ------                   --------------  -----  \n",
      " 0   amt                      2145 non-null   float64\n",
      " 1   city_pop                 2145 non-null   int64  \n",
      " 2   risk_probability         2145 non-null   float64\n",
      " 3   hour                     2145 non-null   int32  \n",
      " 4   distance_km              2145 non-null   float64\n",
      " 5   category_entertainment   2145 non-null   int32  \n",
      " 6   category_food_dining     2145 non-null   int32  \n",
      " 7   category_gas_transport   2145 non-null   int32  \n",
      " 8   category_grocery_net     2145 non-null   int32  \n",
      " 9   category_grocery_pos     2145 non-null   int32  \n",
      " 10  category_health_fitness  2145 non-null   int32  \n",
      " 11  category_home            2145 non-null   int32  \n",
      " 12  category_kids_pets       2145 non-null   int32  \n",
      " 13  category_misc_net        2145 non-null   int32  \n",
      " 14  category_misc_pos        2145 non-null   int32  \n",
      " 15  category_personal_care   2145 non-null   int32  \n",
      " 16  category_shopping_net    2145 non-null   int32  \n",
      " 17  category_shopping_pos    2145 non-null   int32  \n",
      " 18  category_travel          2145 non-null   int32  \n",
      "dtypes: float64(3), int32(15), int64(1)\n",
      "memory usage: 192.8 KB\n"
     ]
    }
   ],
   "source": [
    "data_Test.info()"
   ]
  },
  {
   "cell_type": "code",
   "execution_count": 47,
   "id": "444a1d0b-72ba-47a4-a36e-bcc742ca3f8c",
   "metadata": {},
   "outputs": [
    {
     "data": {
      "text/plain": [
       "(2145, 19)"
      ]
     },
     "execution_count": 47,
     "metadata": {},
     "output_type": "execute_result"
    }
   ],
   "source": [
    "data_Test.shape"
   ]
  },
  {
   "cell_type": "code",
   "execution_count": 48,
   "id": "11cdbd5a-840a-4db1-96b1-e25c92832554",
   "metadata": {},
   "outputs": [],
   "source": [
    "data_Test.to_csv('New_Test.csv',index=False)"
   ]
  },
  {
   "cell_type": "code",
   "execution_count": null,
   "id": "33f3a6d6-c8f6-46f9-ba1e-1e794543e036",
   "metadata": {},
   "outputs": [],
   "source": []
  }
 ],
 "metadata": {
  "kernelspec": {
   "display_name": "Python 3 (ipykernel)",
   "language": "python",
   "name": "python3"
  },
  "language_info": {
   "codemirror_mode": {
    "name": "ipython",
    "version": 3
   },
   "file_extension": ".py",
   "mimetype": "text/x-python",
   "name": "python",
   "nbconvert_exporter": "python",
   "pygments_lexer": "ipython3",
   "version": "3.12.2"
  }
 },
 "nbformat": 4,
 "nbformat_minor": 5
}
