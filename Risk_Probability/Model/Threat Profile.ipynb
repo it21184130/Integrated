{
 "cells": [
  {
   "cell_type": "code",
   "execution_count": 1,
   "id": "0423deea-9490-483e-85ac-21bd58f05950",
   "metadata": {},
   "outputs": [],
   "source": [
    "import matplotlib.pyplot as plt\n",
    "import numpy as np"
   ]
  },
  {
   "cell_type": "code",
   "execution_count": 2,
   "id": "f7143d5d-74de-4a0a-9330-5da76b8f78f0",
   "metadata": {},
   "outputs": [
    {
     "name": "stdout",
     "output_type": "stream",
     "text": [
      "Model loaded successfully: <class 'sklearn.ensemble._forest.RandomForestRegressor'>\n"
     ]
    }
   ],
   "source": [
    "import pickle  # Import the pickle module\n",
    "\n",
    "# Load the pickle file\n",
    "with open(\"predictor.pickle\", \"rb\") as f:  # Ensure the filename and path are correct\n",
    "    model = pickle.load(f)\n",
    "\n",
    "# Verify the loaded object\n",
    "print(\"Model loaded successfully:\", type(model))\n"
   ]
  },
  {
   "cell_type": "code",
   "execution_count": 3,
   "id": "33a25656-a787-440e-ab77-112b7c6a2319",
   "metadata": {},
   "outputs": [],
   "source": [
    "import pickle\n",
    "\n",
    "class FraudRemediation:\n",
    "    @staticmethod\n",
    "    def remediation_steps(input_data):\n",
    "        import numpy as np\n",
    "        # Reshape data for model input\n",
    "        input_data = np.array(input_data).reshape(1, -1)\n",
    "\n",
    "        # Simulated prediction (Replace this with your actual model's predict call)\n",
    "        risk_probability = model.predict(input_data)  # Replace with model.predict(input_data)\n",
    "        \n",
    "        if risk_probability > 0.6:\n",
    "            Risk_Level = \"High\"\n",
    "            description = (\n",
    "                \"Transactions with a high probability of being fraudulent (risk probability > 0.6). \"\n",
    "                \"These transactions typically require immediate investigation and action.\"\n",
    "            )\n",
    "            steps = [\n",
    "                \"1. Block IP/Region: If geographic anomalies are detected, block traffic from the suspicious region temporarily.\",\n",
    "                \"2. Temporary Account Lock: Suspend transactions from the associated account until verified by the user or SOC team.\",\n",
    "                \"3. User Verification: Contact the user to confirm if the transaction is legitimate.\"\n",
    "            ]\n",
    "        elif 0.3 < risk_probability <= 0.6:\n",
    "            Risk_Level = \"Medium\"\n",
    "            description = (\n",
    "                \"Transactions with a medium probability of fraud (risk probability 0.3–0.6). \"\n",
    "                \"These transactions might indicate early signs of fraudulent behavior.\"\n",
    "            )\n",
    "            steps = [\n",
    "                \"1. Delayed Authorization: Hold the transaction temporarily for further validation before completion.\",\n",
    "                \"2. User Notification: Send a security alert to the user, prompting them to verify the transaction.\",\n",
    "                \"3. Geo-Restriction Analysis: Verify the legitimacy of the transaction based on the location. If it’s an occasional deviation, allow upon user confirmation.\"\n",
    "            ]\n",
    "        else:\n",
    "            Risk_Level = \"Low\"\n",
    "            description = (\n",
    "                \"Transactions with minimal fraud probability (risk probability ≤ 0.3). \"\n",
    "                \"These transactions align with the user's regular patterns and behaviors.\"\n",
    "            )\n",
    "            steps = [\n",
    "                \"1. Behavioral Monitoring: Continuously monitor for new patterns or changes in the user’s typical transaction behavior.\",\n",
    "                \"2. Normal Processing: Allow the transaction to proceed without interruptions.\",\n",
    "                \"3. Periodic Review: Include these transactions in regular audit cycles for assurance.\"\n",
    "            ]\n",
    "        \n",
    "        result = (\n",
    "            f\"Risk Probability: {risk_probability}\\n\\n\"\n",
    "            f\"Risk Level: {Risk_Level}\\n\\n\"\n",
    "            f\"Description: \\n-------------------\\n{description}\\n\\n\"\n",
    "            f\"Remediation Steps:\\n-------------------\\n\" + \"\\n\".join(steps)\n",
    "        )\n",
    "        return result\n"
   ]
  },
  {
   "cell_type": "code",
   "execution_count": 4,
   "id": "12ec6805-b2e8-4994-9101-5c8418f8592b",
   "metadata": {},
   "outputs": [],
   "source": [
    "# Save the class or any serializable object to a pickle file\n",
    "with open(\"fraud_remediation.pickle\", \"wb\") as f:\n",
    "    pickle.dump(FraudRemediation, f)\n"
   ]
  },
  {
   "cell_type": "code",
   "execution_count": 5,
   "id": "ef919788-3192-40d9-a5ed-62004304babd",
   "metadata": {},
   "outputs": [
    {
     "name": "stdout",
     "output_type": "stream",
     "text": [
      "Risk Probability: [0.71140137]\n",
      "\n",
      "Risk Level: High\n",
      "\n",
      "Description: \n",
      "-------------------\n",
      "Transactions with a high probability of being fraudulent (risk probability > 0.6). These transactions typically require immediate investigation and action.\n",
      "\n",
      "Remediation Steps:\n",
      "-------------------\n",
      "1. Block IP/Region: If geographic anomalies are detected, block traffic from the suspicious region temporarily.\n",
      "2. Temporary Account Lock: Suspend transactions from the associated account until verified by the user or SOC team.\n",
      "3. User Verification: Contact the user to confirm if the transaction is legitimate.\n"
     ]
    },
    {
     "name": "stderr",
     "output_type": "stream",
     "text": [
      "C:\\Users\\DULA\\AppData\\Local\\Programs\\Python\\Python312\\Lib\\site-packages\\sklearn\\base.py:493: UserWarning: X does not have valid feature names, but RandomForestRegressor was fitted with feature names\n",
      "  warnings.warn(\n"
     ]
    }
   ],
   "source": [
    "# Load the class or object from the pickle file\n",
    "with open(\"fraud_remediation.pickle\", \"rb\") as f:\n",
    "    LoadedRemediation = pickle.load(f)\n",
    "\n",
    "# Use the loaded class\n",
    "output = LoadedRemediation.remediation_steps([310, 885, 23, 68.96272634043781, 0, 0, 0, 0, 1, 0, 0, 0, 0, 0, 0, 0, 0, 0, 1, 0])\n",
    "print(output)\n"
   ]
  },
  {
   "cell_type": "code",
   "execution_count": null,
   "id": "6c9accfa-c343-43e4-b543-6eb07db592f2",
   "metadata": {},
   "outputs": [],
   "source": []
  }
 ],
 "metadata": {
  "kernelspec": {
   "display_name": "Python 3 (ipykernel)",
   "language": "python",
   "name": "python3"
  },
  "language_info": {
   "codemirror_mode": {
    "name": "ipython",
    "version": 3
   },
   "file_extension": ".py",
   "mimetype": "text/x-python",
   "name": "python",
   "nbconvert_exporter": "python",
   "pygments_lexer": "ipython3",
   "version": "3.12.2"
  }
 },
 "nbformat": 4,
 "nbformat_minor": 5
}
